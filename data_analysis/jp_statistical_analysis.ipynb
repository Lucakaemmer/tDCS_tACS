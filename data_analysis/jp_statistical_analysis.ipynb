{
 "cells": [
  {
   "cell_type": "code",
   "execution_count": 7,
   "metadata": {
    "collapsed": true,
    "pycharm": {
     "name": "#%%\n"
    }
   },
   "outputs": [],
   "source": [
    "import numpy as np\n",
    "import pandas as pd\n",
    "from statsmodels.stats.anova import AnovaRM\n",
    "from scipy.stats import ttest_rel\n",
    "import pingouin as pg\n",
    "from constants import (ACCURACIES_PATH, ACC_UNSHIFTED_PATH)\n",
    "from utils.utils_statistical_analysis import stats_preprocessing"
   ]
  },
  {
   "cell_type": "markdown",
   "source": [
    "# Importing data and formatting it\n",
    "Imports all the accuracies and brings them into a table that can be used for statistical analysis. Also segments the data to analyse only certain blocks."
   ],
   "metadata": {
    "collapsed": false,
    "pycharm": {
     "name": "#%% md\n"
    }
   }
  },
  {
   "cell_type": "code",
   "execution_count": 8,
   "outputs": [],
   "source": [
    "accuracies_data = pd.read_csv(ACCURACIES_PATH, header=None)\n",
    "stats_data = stats_preprocessing(accuracies_data)\n",
    "\n",
    "stats_data_pre = stats_data.loc[(stats_data['Run'] == 1) | (stats_data['Run'] == 2)]\n",
    "stats_data_treatment = stats_data.loc[(stats_data['Run'] == 3) | (stats_data['Run'] == 4)]\n",
    "stats_data_post = stats_data.loc[(stats_data['Run'] == 5) | (stats_data['Run'] == 6)]\n",
    "\n",
    "#stats_data.info()"
   ],
   "metadata": {
    "collapsed": false,
    "pycharm": {
     "name": "#%%\n"
    }
   }
  },
  {
   "cell_type": "markdown",
   "source": [
    "# Output\n",
    "Exporting data to use in other programs"
   ],
   "metadata": {
    "collapsed": false,
    "pycharm": {
     "name": "#%% md\n"
    }
   }
  },
  {
   "cell_type": "code",
   "execution_count": 9,
   "outputs": [],
   "source": [
    "# np.savetxt(\"data/stats_data.csv\", stats_data, delimiter=\",\")\n",
    "# np.savetxt(\"data/stats_data_treatment.csv\", stats_data_treatment, delimiter=\",\")\n",
    "# np.savetxt(\"data/stats_data_pre.csv\", stats_data_pre, delimiter=\",\")\n",
    "# np.savetxt(\"data/stats_data_post.csv\", stats_data_post, delimiter=\",\")"
   ],
   "metadata": {
    "collapsed": false,
    "pycharm": {
     "name": "#%%\n"
    }
   }
  },
  {
   "cell_type": "markdown",
   "source": [
    "# ANOVA\n",
    "calculates within-subjects ANOVA"
   ],
   "metadata": {
    "collapsed": false,
    "pycharm": {
     "name": "#%% md\n"
    }
   }
  },
  {
   "cell_type": "code",
   "execution_count": 10,
   "outputs": [
    {
     "name": "stdout",
     "output_type": "stream",
     "text": [
      "\u001B[4mModel 1\u001B[0m\n",
      "                   Anova\n",
      "============================================\n",
      "              F Value Num DF  Den DF  Pr > F\n",
      "--------------------------------------------\n",
      "Run            0.7133 5.0000 155.0000 0.6144\n",
      "Treatment      0.0095 1.0000  31.0000 0.9232\n",
      "Run:Treatment  0.7501 5.0000 155.0000 0.5872\n",
      "============================================\n",
      "\n",
      "\n",
      "\u001B[4mModel 2\u001B[0m\n",
      "            Source        SS  ddof1  ddof2        MS         F     p-unc  \\\n",
      "0              Run  0.025461      5    155  0.005092  0.713259  0.614357   \n",
      "1        Treatment  0.000086      1     31  0.000086  0.009457  0.923155   \n",
      "2  Run * Treatment  0.037047      5    155  0.007409  0.750078  0.587216   \n",
      "\n",
      "   p-GG-corr       ng2       eps  \n",
      "0   0.599474  0.005739  0.895642  \n",
      "1   0.923155  0.000020  1.000000  \n",
      "2   0.560758  0.008330  0.806473  \n",
      "\n"
     ]
    }
   ],
   "source": [
    "model_1 = AnovaRM(data=stats_data, depvar='Accuracy', subject='Subject', within=['Run', 'Treatment']).fit()\n",
    "print(\"\\033[4m\" + \"Model 1\" + \"\\033[0m\")\n",
    "print(model_1)\n",
    "print(\"\")\n",
    "\n",
    "model_2 = pg.rm_anova(dv='Accuracy', within=['Run', 'Treatment'], subject='Subject', data=stats_data)\n",
    "print(\"\\033[4m\" + \"Model 2\" + \"\\033[0m\")\n",
    "print(model_2)\n",
    "print(\"\")"
   ],
   "metadata": {
    "collapsed": false,
    "pycharm": {
     "name": "#%%\n"
    }
   }
  },
  {
   "cell_type": "markdown",
   "source": [
    "# T-Test\n",
    "Calculates a t-test comparing individual runs to each other"
   ],
   "metadata": {
    "collapsed": false,
    "pycharm": {
     "name": "#%% md\n"
    }
   }
  },
  {
   "cell_type": "code",
   "execution_count": 11,
   "outputs": [
    {
     "name": "stdout",
     "output_type": "stream",
     "text": [
      "0.6345314558629775\n",
      "0.6165338850461133\n",
      "\n",
      "\u001B[4mT-Test 1\u001B[0m\n",
      "               T  dof alternative    p-val          CI95%   cohen-d   BF10  \\\n",
      "T-test  0.693936   31   two-sided  0.49289  [-0.03, 0.07]  0.169506  0.236   \n",
      "\n",
      "           power  \n",
      "T-test  0.153303  \n",
      "\u001B[4mT-Test 2\u001B[0m\n",
      "Ttest_relResult(statistic=0.6939363145494997, pvalue=0.7535550819019683)\n"
     ]
    }
   ],
   "source": [
    "sham_4 = stats_data.query('Treatment == 1 and Run == 6')['Accuracy']\n",
    "stim_4 = stats_data.query('Treatment == 2 and Run == 6')['Accuracy']\n",
    "print(np.mean(sham_4))\n",
    "print(np.mean(stim_4))\n",
    "print(\"\")\n",
    "\n",
    "t_test_1 = pg.ttest(sham_4, stim_4, paired=True)\n",
    "print(\"\\033[4m\" + \"T-Test 1\" + \"\\033[0m\")\n",
    "print(t_test_1)\n",
    "\n",
    "t_test_2 = ttest_rel(sham_4, stim_4, alternative='less')\n",
    "print(\"\\033[4m\" + \"T-Test 2\" + \"\\033[0m\")\n",
    "print(t_test_2)"
   ],
   "metadata": {
    "collapsed": false,
    "pycharm": {
     "name": "#%%\n"
    }
   }
  },
  {
   "cell_type": "markdown",
   "source": [
    "# Performance Split\n",
    "Splitting dataset into high and low performers and calculating ANOVA"
   ],
   "metadata": {
    "collapsed": false,
    "pycharm": {
     "name": "#%% md\n"
    }
   }
  },
  {
   "cell_type": "code",
   "execution_count": 13,
   "outputs": [
    {
     "name": "stdout",
     "output_type": "stream",
     "text": [
      "\u001B[4mLow Performers\u001B[0m\n",
      "0.5751168272397892\n",
      "            Source        SS  ddof1  ddof2        MS         F     p-unc  \\\n",
      "0              Run  0.052037      5     75  0.010407  1.544898  0.186236   \n",
      "1        Treatment  0.000356      1     15  0.000356  0.034914  0.854280   \n",
      "2  Run * Treatment  0.054385      5     75  0.010877  0.935045  0.463355   \n",
      "\n",
      "   p-GG-corr       ng2       eps  \n",
      "0   0.208021  0.028702  0.704322  \n",
      "1   0.854280  0.000202  1.000000  \n",
      "2   0.444382  0.029958  0.732152  \n",
      "\n",
      "\u001B[4mHigh Performers\u001B[0m\n",
      "0.6768251468489238\n",
      "            Source        SS  ddof1  ddof2        MS         F     p-unc  \\\n",
      "0              Run  0.011203      5     75  0.002241  0.298189  0.912426   \n",
      "1        Treatment  0.000033      1     15  0.000033  0.003770  0.951854   \n",
      "2  Run * Treatment  0.055670      5     75  0.011134  1.425775  0.224820   \n",
      "\n",
      "   p-GG-corr       ng2       eps  \n",
      "0   0.878480  0.007197  0.802277  \n",
      "1   0.951854  0.000021  1.000000  \n",
      "2   0.244521  0.034770  0.658665  \n"
     ]
    }
   ],
   "source": [
    "subject_performance = stats_data.Accuracy.to_numpy()\n",
    "subject_performance = np.mean(subject_performance.reshape(-1, 12), axis=1)\n",
    "performance_index = np.argpartition(subject_performance, int(len(subject_performance)/2))\n",
    "performance_index = performance_index + 1\n",
    "performance_index = np.array_split(performance_index,2)\n",
    "\n",
    "low_performers = stats_data[~(stats_data.Subject.isin(performance_index[1]))]\n",
    "high_performers = stats_data[~(stats_data.Subject.isin(performance_index[0]))]\n",
    "\n",
    "anova_low_performers = pg.rm_anova(dv='Accuracy', within=['Run', 'Treatment'], subject='Subject', data=low_performers)\n",
    "anova_high_performers = pg.rm_anova(dv='Accuracy', within=['Run', 'Treatment'], subject='Subject', data=high_performers)\n",
    "\n",
    "print(\"\\033[4m\" + \"Low Performers\" + \"\\033[0m\")\n",
    "print(np.mean(low_performers.Accuracy))\n",
    "print(anova_low_performers)\n",
    "print(\"\")\n",
    "print(\"\\033[4m\" + \"High Performers\" + \"\\033[0m\")\n",
    "print(np.mean(high_performers.Accuracy))\n",
    "print(anova_high_performers)"
   ],
   "metadata": {
    "collapsed": false,
    "pycharm": {
     "name": "#%%\n"
    }
   }
  },
  {
   "cell_type": "markdown",
   "source": [
    "# Comparing day 1 to day 2\n",
    "Using the unshifted data to test if there is a difference in the performance between day 1 and day 2 and to see if there is a learning effect"
   ],
   "metadata": {
    "collapsed": false,
    "pycharm": {
     "name": "#%% md\n"
    }
   }
  },
  {
   "cell_type": "code",
   "execution_count": 21,
   "outputs": [
    {
     "name": "stdout",
     "output_type": "stream",
     "text": [
      "\u001B[4mANOVA comparing day 1 and 2\u001B[0m\n",
      "            Source        SS  ddof1  ddof2        MS         F     p-unc  \\\n",
      "0              Run  0.025461      5    155  0.005092  0.713259  0.614357   \n",
      "1        Treatment  0.000086      1     31  0.000086  0.009457  0.923155   \n",
      "2  Run * Treatment  0.037047      5    155  0.007409  0.750078  0.587216   \n",
      "\n",
      "   p-GG-corr       ng2       eps  \n",
      "0   0.599474  0.005739  0.895642  \n",
      "1   0.923155  0.000020  1.000000  \n",
      "2   0.560758  0.008330  0.806473  \n",
      "\n",
      "\u001B[4mANOVA of day 1\u001B[0m\n",
      "  Source  ddof1  ddof2         F     p-unc       ng2       eps\n",
      "0    Run      5    155  0.689446  0.632141  0.013437  0.870944\n",
      "\n",
      "\u001B[4mANOVA of day 2\u001B[0m\n",
      "  Source  ddof1  ddof2        F     p-unc       ng2       eps\n",
      "0    Run      5    155  0.78205  0.564062  0.014511  0.892408\n"
     ]
    }
   ],
   "source": [
    "accuracies_unshifted_data = pd.read_csv(ACC_UNSHIFTED_PATH, header=None)\n",
    "stats_data_unshifted = stats_preprocessing(accuracies_unshifted_data)\n",
    "\n",
    "stats_data_day1 = stats_data.loc[(stats_data['Treatment'] == 1)]\n",
    "stats_data_day2 = stats_data.loc[(stats_data['Treatment'] == 2)]\n",
    "\n",
    "unshifted_anova = pg.rm_anova(dv='Accuracy', within=['Run', 'Treatment'], subject='Subject', data=stats_data_unshifted)\n",
    "anova_day1 = pg.rm_anova(dv='Accuracy', within=['Run'], subject='Subject', data=stats_data_day1)\n",
    "anova_day2 = pg.rm_anova(dv='Accuracy', within=['Run'], subject='Subject', data=stats_data_day2)\n",
    "\n",
    "print(\"\\033[4m\" + \"ANOVA comparing day 1 and 2\" + \"\\033[0m\")\n",
    "print(unshifted_anova)\n",
    "print(\"\")\n",
    "print(\"\\033[4m\" + \"ANOVA of day 1\" + \"\\033[0m\")\n",
    "print(anova_day1)\n",
    "print(\"\")\n",
    "print(\"\\033[4m\" + \"ANOVA of day 2\" + \"\\033[0m\")\n",
    "print(anova_day2)"
   ],
   "metadata": {
    "collapsed": false,
    "pycharm": {
     "name": "#%%\n"
    }
   }
  },
  {
   "cell_type": "code",
   "execution_count": null,
   "outputs": [],
   "source": [],
   "metadata": {
    "collapsed": false,
    "pycharm": {
     "name": "#%%\n"
    }
   }
  }
 ],
 "metadata": {
  "kernelspec": {
   "display_name": "Python 3",
   "language": "python",
   "name": "python3"
  },
  "language_info": {
   "codemirror_mode": {
    "name": "ipython",
    "version": 2
   },
   "file_extension": ".py",
   "mimetype": "text/x-python",
   "name": "python",
   "nbconvert_exporter": "python",
   "pygments_lexer": "ipython2",
   "version": "2.7.6"
  }
 },
 "nbformat": 4,
 "nbformat_minor": 0
}