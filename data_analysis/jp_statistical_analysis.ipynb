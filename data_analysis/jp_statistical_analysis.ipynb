{
 "cells": [
  {
   "cell_type": "code",
   "execution_count": 28,
   "metadata": {
    "collapsed": true,
    "pycharm": {
     "name": "#%%\n"
    }
   },
   "outputs": [],
   "source": [
    "import numpy as np\n",
    "import pandas as pd\n",
    "from statsmodels.stats.anova import AnovaRM\n",
    "from statsmodels.stats.multicomp import pairwise_tukeyhsd\n",
    "from scipy.stats import ttest_rel\n",
    "import pingouin as pg\n",
    "from constants import (ACCURACIES_PATH, ACC_UNSHIFTED_PATH)\n",
    "from utils.utils_statistical_analysis import stats_preprocessing"
   ]
  },
  {
   "cell_type": "markdown",
   "source": [
    "# Importing data and formatting it\n",
    "Imports all the accuracies and brings them into a table that can be used for statistical analysis. Also segments the data to analyse only certain blocks."
   ],
   "metadata": {
    "collapsed": false,
    "pycharm": {
     "name": "#%% md\n"
    }
   }
  },
  {
   "cell_type": "code",
   "execution_count": 13,
   "outputs": [],
   "source": [
    "accuracies_data = pd.read_csv(ACCURACIES_PATH, header=None)\n",
    "stats_data = stats_preprocessing(accuracies_data)\n",
    "\n",
    "#stats_data_pre = stats_data.loc[(stats_data['Run'] == 1) | (stats_data['Run'] == 2)]\n",
    "#stats_data_treatment = stats_data.loc[(stats_data['Run'] == 3) | (stats_data['Run'] == 4)]\n",
    "#stats_data_post = stats_data.loc[(stats_data['Run'] == 5) | (stats_data['Run'] == 6)]\n",
    "\n",
    "#stats_data.info()"
   ],
   "metadata": {
    "collapsed": false,
    "pycharm": {
     "name": "#%%\n"
    }
   }
  },
  {
   "cell_type": "markdown",
   "source": [
    "# Output\n",
    "Exporting data to use in other programs"
   ],
   "metadata": {
    "collapsed": false,
    "pycharm": {
     "name": "#%% md\n"
    }
   }
  },
  {
   "cell_type": "code",
   "execution_count": null,
   "outputs": [],
   "source": [
    "# np.savetxt(\"data/stats_data.csv\", stats_data, delimiter=\",\")\n",
    "# np.savetxt(\"data/stats_data_treatment.csv\", stats_data_treatment, delimiter=\",\")\n",
    "# np.savetxt(\"data/stats_data_pre.csv\", stats_data_pre, delimiter=\",\")\n",
    "# np.savetxt(\"data/stats_data_post.csv\", stats_data_post, delimiter=\",\")"
   ],
   "metadata": {
    "collapsed": false,
    "pycharm": {
     "name": "#%%\n"
    }
   }
  },
  {
   "cell_type": "markdown",
   "source": [
    "# ANOVA\n",
    "calculates within-subjects ANOVA"
   ],
   "metadata": {
    "collapsed": false,
    "pycharm": {
     "name": "#%% md\n"
    }
   }
  },
  {
   "cell_type": "code",
   "execution_count": null,
   "outputs": [],
   "source": [
    "model_1 = AnovaRM(data=stats_data, depvar='Accuracy', subject='Subject', within=['Run', 'Treatment']).fit()\n",
    "print(\"\\033[4m\" + \"Model 1\" + \"\\033[0m\")\n",
    "print(model_1)\n",
    "print(\"\")\n",
    "\n",
    "model_2 = pg.rm_anova(dv='Accuracy', within=['Run', 'Treatment'], subject='Subject', data=stats_data)\n",
    "print(\"\\033[4m\" + \"Model 2\" + \"\\033[0m\")\n",
    "print(model_2)\n",
    "print(\"\")"
   ],
   "metadata": {
    "collapsed": false,
    "pycharm": {
     "name": "#%%\n"
    }
   }
  },
  {
   "cell_type": "markdown",
   "source": [
    "# T-Test\n",
    "Calculates a t-test comparing individual runs to each other"
   ],
   "metadata": {
    "collapsed": false,
    "pycharm": {
     "name": "#%% md\n"
    }
   }
  },
  {
   "cell_type": "code",
   "execution_count": null,
   "outputs": [],
   "source": [
    "sham_4 = stats_data.query('Treatment == 1 and Run == 6')['Accuracy']\n",
    "stim_4 = stats_data.query('Treatment == 2 and Run == 6')['Accuracy']\n",
    "print(np.mean(sham_4))\n",
    "print(np.mean(stim_4))\n",
    "print(\"\")\n",
    "\n",
    "t_test_1 = pg.ttest(sham_4, stim_4, paired=True)\n",
    "print(\"\\033[4m\" + \"T-Test 1\" + \"\\033[0m\")\n",
    "print(t_test_1)\n",
    "\n",
    "t_test_2 = ttest_rel(sham_4, stim_4, alternative='less')\n",
    "print(\"\\033[4m\" + \"T-Test 2\" + \"\\033[0m\")\n",
    "print(t_test_2)"
   ],
   "metadata": {
    "collapsed": false,
    "pycharm": {
     "name": "#%%\n"
    }
   }
  },
  {
   "cell_type": "markdown",
   "source": [
    "# Performance Split\n",
    "Splitting dataset into high and low performers and calculating ANOVA"
   ],
   "metadata": {
    "collapsed": false,
    "pycharm": {
     "name": "#%% md\n"
    }
   }
  },
  {
   "cell_type": "code",
   "execution_count": 33,
   "outputs": [
    {
     "name": "stdout",
     "output_type": "stream",
     "text": [
      "\u001B[4mLow Performers\u001B[0m\n",
      "0.5751168272397891\n",
      "            Source        SS  ddof1  ddof2        MS         F     p-unc  \\\n",
      "0              Run  0.052037      5     75  0.010407  1.544898  0.186236   \n",
      "1        Treatment  0.001240      1     15  0.001240  0.122413  0.731296   \n",
      "2  Run * Treatment  0.019499      5     75  0.003900  0.322364  0.898046   \n",
      "\n",
      "   p-GG-corr       ng2       eps  \n",
      "0   0.208021  0.028173  0.704322  \n",
      "1   0.731296  0.000690  1.000000  \n",
      "2   0.846930  0.010746  0.734675  \n",
      "\n",
      "\u001B[4mHigh Performers\u001B[0m\n",
      "0.6768251468489238\n",
      "            Source        SS  ddof1  ddof2        MS         F     p-unc  \\\n",
      "0              Run  0.011203      5     75  0.002241  0.298189  0.912426   \n",
      "1        Treatment  0.013792      1     15  0.013792  1.778969  0.202176   \n",
      "2  Run * Treatment  0.066757      5     75  0.013351  1.742729  0.135251   \n",
      "\n",
      "   p-GG-corr       ng2       eps  \n",
      "0   0.878480  0.007314  0.802277  \n",
      "1   0.202176  0.008989  1.000000  \n",
      "2   0.158664  0.042056  0.733412  \n"
     ]
    }
   ],
   "source": [
    "subject_performance = stats_data.Accuracy.to_numpy()\n",
    "subject_performance = np.mean(subject_performance.reshape(-1, 12), axis=1)\n",
    "performance_index = np.argpartition(subject_performance, int(len(subject_performance)/2))\n",
    "performance_index = performance_index + 1\n",
    "performance_index = np.array_split(performance_index,2)\n",
    "\n",
    "low_performers = stats_data[~(stats_data.Subject.isin(performance_index[1]))]\n",
    "high_performers = stats_data[~(stats_data.Subject.isin(performance_index[0]))]\n",
    "\n",
    "anova_low_performers = pg.rm_anova(dv='Accuracy', within=['Run', 'Treatment'], subject='Subject', data=low_performers)\n",
    "anova_high_performers = pg.rm_anova(dv='Accuracy', within=['Run', 'Treatment'], subject='Subject', data=high_performers)\n",
    "\n",
    "print(\"\\033[4m\" + \"Low Performers\" + \"\\033[0m\")\n",
    "print(np.mean(low_performers.Accuracy))\n",
    "print(anova_low_performers)\n",
    "print(\"\")\n",
    "print(\"\\033[4m\" + \"High Performers\" + \"\\033[0m\")\n",
    "print(np.mean(high_performers.Accuracy))\n",
    "print(anova_high_performers)"
   ],
   "metadata": {
    "collapsed": false,
    "pycharm": {
     "name": "#%%\n"
    }
   }
  },
  {
   "cell_type": "markdown",
   "source": [
    "# Comparing day 1 to day 2\n",
    "Using the unshifted data to test if there is a difference in the performance between day 1 and day 2 and to see if there is a learning effect"
   ],
   "metadata": {
    "collapsed": false,
    "pycharm": {
     "name": "#%% md\n"
    }
   }
  },
  {
   "cell_type": "code",
   "execution_count": null,
   "outputs": [],
   "source": [
    "accuracies_unshifted_data = pd.read_csv(ACC_UNSHIFTED_PATH, header=None)\n",
    "stats_data_unshifted = stats_preprocessing(accuracies_unshifted_data)\n",
    "\n",
    "stats_data_day1 = stats_data.loc[(stats_data['Treatment'] == 1)]\n",
    "stats_data_day2 = stats_data.loc[(stats_data['Treatment'] == 2)]\n",
    "\n",
    "unshifted_anova = pg.rm_anova(dv='Accuracy', within=['Run', 'Treatment'], subject='Subject', data=stats_data_unshifted)\n",
    "anova_day1 = pg.rm_anova(dv='Accuracy', within=['Run'], subject='Subject', data=stats_data_day1)\n",
    "anova_day2 = pg.rm_anova(dv='Accuracy', within=['Run'], subject='Subject', data=stats_data_day2)\n",
    "\n",
    "print(\"\\033[4m\" + \"ANOVA comparing day 1 and 2\" + \"\\033[0m\")\n",
    "print(unshifted_anova)\n",
    "print(\"\")\n",
    "print(\"\\033[4m\" + \"ANOVA of day 1\" + \"\\033[0m\")\n",
    "print(anova_day1)\n",
    "print(\"\")\n",
    "print(\"\\033[4m\" + \"ANOVA of day 2\" + \"\\033[0m\")\n",
    "print(anova_day2)"
   ],
   "metadata": {
    "collapsed": false,
    "pycharm": {
     "name": "#%%\n"
    }
   }
  },
  {
   "cell_type": "markdown",
   "source": [
    "# Comparing Baseline to Stimulation Phase\n",
    "Calculating the ANOVA comparing baseline trials with trial 3 and 4. First on both days, then only on the day of the actual stimulation."
   ],
   "metadata": {
    "collapsed": false,
    "pycharm": {
     "name": "#%% md\n"
    }
   }
  },
  {
   "cell_type": "code",
   "execution_count": 32,
   "outputs": [
    {
     "name": "stderr",
     "output_type": "stream",
     "text": [
      "/var/folders/h8/2kfl3g3j6qb3s84n6r41gc8m0000gn/T/ipykernel_62800/4132915091.py:2: SettingWithCopyWarning: \n",
      "A value is trying to be set on a copy of a slice from a DataFrame.\n",
      "Try using .loc[row_indexer,col_indexer] = value instead\n",
      "\n",
      "See the caveats in the documentation: https://pandas.pydata.org/pandas-docs/stable/user_guide/indexing.html#returning-a-view-versus-a-copy\n",
      "  stats_data_short.Run = stats_data_short.Run.replace(2, 1)\n"
     ]
    },
    {
     "name": "stdout",
     "output_type": "stream",
     "text": [
      "\u001B[4mANOVA comparing Baseline to run 3 and 4\u001B[0m\n",
      "            Source        SS  ddof1  ddof2        MS         F     p-unc  \\\n",
      "0              Run  0.019604      2     62  0.009802  1.875857  0.161817   \n",
      "1        Treatment  0.006703      1     31  0.006703  0.747643  0.393865   \n",
      "2  Run * Treatment  0.034661      2     62  0.017331  2.250362  0.113900   \n",
      "\n",
      "   p-GG-corr       ng2       eps  \n",
      "0   0.163623  0.010137  0.960784  \n",
      "1   0.393865  0.003490  1.000000  \n",
      "2   0.117997  0.017785  0.931006  \n",
      "\n",
      "\u001B[4mANOVA comparing Baseline to run 3 and 4 in treatment condition\u001B[0m\n",
      "  Source  ddof1  ddof2         F     p-unc       ng2       eps\n",
      "0    Run      2     62  3.244521  0.045697  0.051021  0.894647\n",
      "\n",
      "\u001B[4mPairwise comparisons\u001B[0m\n",
      "Multiple Comparison of Means - Tukey HSD, FWER=0.05\n",
      "===================================================\n",
      "group1 group2 meandiff p-adj   lower  upper  reject\n",
      "---------------------------------------------------\n",
      "     1      3  -0.0126   0.85 -0.0674 0.0423  False\n",
      "     1      4   0.0405   0.19 -0.0143 0.0954  False\n",
      "     3      4   0.0531 0.1193 -0.0102 0.1164  False\n",
      "---------------------------------------------------\n"
     ]
    }
   ],
   "source": [
    "stats_data_short = stats_data.loc[(stats_data['Run'] == 1) | (stats_data['Run'] == 2) | (stats_data['Run'] == 3) | (stats_data['Run'] == 4)]\n",
    "stats_data_short.Run = stats_data_short.Run.replace(2, 1)\n",
    "anova_short = pg.rm_anova(dv='Accuracy', within=['Run', 'Treatment'], subject='Subject', data=stats_data_short)\n",
    "\n",
    "stats_data_short_treatment = stats_data_short.loc[(stats_data_short['Treatment'] == 2)]\n",
    "anova_short_treatment = pg.rm_anova(dv='Accuracy', within=['Run'], subject='Subject', data=stats_data_short_treatment)\n",
    "\n",
    "tukey = pairwise_tukeyhsd(endog=stats_data_short_treatment['Accuracy'],\n",
    "                          groups=stats_data_short_treatment['Run'],\n",
    "                          alpha=0.05)\n",
    "\n",
    "print(\"\\033[4m\" + \"ANOVA comparing Baseline to run 3 and 4\" + \"\\033[0m\")\n",
    "print(anova_short)\n",
    "print(\"\")\n",
    "print(\"\\033[4m\" + \"ANOVA comparing Baseline to run 3 and 4 in treatment condition\" + \"\\033[0m\")\n",
    "print(anova_short_treatment)\n",
    "print(\"\")\n",
    "print(\"\\033[4m\" + \"Pairwise comparisons\" + \"\\033[0m\")\n",
    "print(tukey)"
   ],
   "metadata": {
    "collapsed": false,
    "pycharm": {
     "name": "#%%\n"
    }
   }
  },
  {
   "cell_type": "code",
   "execution_count": null,
   "outputs": [],
   "source": [],
   "metadata": {
    "collapsed": false,
    "pycharm": {
     "name": "#%%\n"
    }
   }
  }
 ],
 "metadata": {
  "kernelspec": {
   "display_name": "Python 3",
   "language": "python",
   "name": "python3"
  },
  "language_info": {
   "codemirror_mode": {
    "name": "ipython",
    "version": 2
   },
   "file_extension": ".py",
   "mimetype": "text/x-python",
   "name": "python",
   "nbconvert_exporter": "python",
   "pygments_lexer": "ipython2",
   "version": "2.7.6"
  }
 },
 "nbformat": 4,
 "nbformat_minor": 0
}