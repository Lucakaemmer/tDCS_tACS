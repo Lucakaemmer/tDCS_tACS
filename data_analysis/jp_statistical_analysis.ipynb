{
 "cells": [
  {
   "cell_type": "code",
   "execution_count": 4,
   "metadata": {
    "collapsed": true,
    "pycharm": {
     "name": "#%%\n"
    }
   },
   "outputs": [],
   "source": [
    "import numpy as np\n",
    "import pandas as pd\n",
    "from statsmodels.stats.anova import AnovaRM\n",
    "from bioinfokit.analys import stat\n",
    "from scipy.stats import ttest_rel\n",
    "import pingouin as pg\n",
    "import seaborn as sns\n",
    "from constants import (ACCURACIES_PATH)"
   ]
  },
  {
   "cell_type": "markdown",
   "source": [
    "# Importing data and formatting it\n",
    "Imports all the accuracies and brings them into a table that can be used for statistical analysis. Also segments the data to analyse only certain blocks."
   ],
   "metadata": {
    "collapsed": false,
    "pycharm": {
     "name": "#%% md\n"
    }
   }
  },
  {
   "cell_type": "code",
   "execution_count": 5,
   "outputs": [],
   "source": [
    "accuracies_data = pd.read_csv(ACCURACIES_PATH, header=None)\n",
    "\n",
    "accuracy = accuracies_data.to_numpy().flatten()\n",
    "subject = range(1, len(accuracies_data) + 1)\n",
    "subject = np.repeat(subject, 12)\n",
    "treatment = [1, 2]\n",
    "treatment = np.repeat(treatment, 6)\n",
    "treatment = np.tile(treatment, len(accuracies_data))\n",
    "run = np.arange(1, 7)\n",
    "run = np.tile(run, len(accuracies_data) * 2)\n",
    "stats_data = pd.DataFrame({'Subject': subject, 'Treatment': treatment, 'Run': run, 'Accuracy': accuracy},\n",
    "                          columns=['Subject', 'Treatment', 'Run', 'Accuracy'])\n",
    "\n",
    "stats_data_pre = stats_data.loc[(stats_data['Run'] == 1) | (stats_data['Run'] == 2)]\n",
    "stats_data_treatment = stats_data.loc[(stats_data['Run'] == 3) | (stats_data['Run'] == 4)]\n",
    "stats_data_post = stats_data.loc[(stats_data['Run'] == 5) | (stats_data['Run'] == 6)]"
   ],
   "metadata": {
    "collapsed": false,
    "pycharm": {
     "name": "#%%\n"
    }
   }
  },
  {
   "cell_type": "markdown",
   "source": [
    "# ANOVA\n",
    "calculates within-subjects ANOVA"
   ],
   "metadata": {
    "collapsed": false,
    "pycharm": {
     "name": "#%% md\n"
    }
   }
  },
  {
   "cell_type": "code",
   "execution_count": 6,
   "outputs": [
    {
     "name": "stdout",
     "output_type": "stream",
     "text": [
      "\u001B[4mModel 1\u001B[0m\n",
      "                   Anova\n",
      "============================================\n",
      "              F Value Num DF  Den DF  Pr > F\n",
      "--------------------------------------------\n",
      "Run            1.3356 5.0000 140.0000 0.2527\n",
      "Treatment      0.4677 1.0000  28.0000 0.4997\n",
      "Run:Treatment  2.1496 5.0000 140.0000 0.0631\n",
      "============================================\n",
      "\n",
      "\n",
      "BOOBS\n",
      "\u001B[4mModel 2\u001B[0m\n",
      "            Source        SS  ddof1  ddof2        MS         F     p-unc  \\\n",
      "0              Run  0.049437      5    140  0.009887  1.335620  0.252706   \n",
      "1        Treatment  0.004845      1     28  0.004845  0.467736  0.499652   \n",
      "2  Run * Treatment  0.101455      5    140  0.020291  2.149646  0.063072   \n",
      "\n",
      "   p-GG-corr       ng2       eps  \n",
      "0   0.258814  0.012063  0.857057  \n",
      "1   0.499652  0.001195  1.000000  \n",
      "2   0.080685  0.024446  0.785244  \n",
      "\n"
     ]
    }
   ],
   "source": [
    "model_1_pre = AnovaRM(data=stats_data, depvar='Accuracy', subject='Subject', within=['Run', 'Treatment'])\n",
    "model_1 = model_1_pre.fit()\n",
    "print(\"\\033[4m\" + \"Model 1\" + \"\\033[0m\")\n",
    "print(model_1)\n",
    "print(\"\")\n",
    "print(\"BOOBS\")\n",
    "model_2 = pg.rm_anova(dv='Accuracy', within=['Run', 'Treatment'], subject='Subject', data=stats_data)\n",
    "print(\"\\033[4m\" + \"Model 2\" + \"\\033[0m\")\n",
    "print(model_2)\n",
    "print(\"\")"
   ],
   "metadata": {
    "collapsed": false,
    "pycharm": {
     "name": "#%%\n"
    }
   }
  },
  {
   "cell_type": "markdown",
   "source": [
    "# T-Test\n",
    "Calculates a t-test comparing individual runs to each other"
   ],
   "metadata": {
    "collapsed": false,
    "pycharm": {
     "name": "#%% md\n"
    }
   }
  },
  {
   "cell_type": "code",
   "execution_count": 7,
   "outputs": [
    {
     "name": "stdout",
     "output_type": "stream",
     "text": [
      "0.6118190904547727\n",
      "0.691216891554223\n",
      "\n",
      "\u001B[4mT-Test 1\u001B[0m\n",
      "Ttest_relResult(statistic=-3.0485126664596667, pvalue=0.0024901667528961723)\n",
      "\n",
      "\u001B[4mT-Test 2\u001B[0m\n",
      "               T  dof alternative    p-val           CI95%  cohen-d   BF10  \\\n",
      "T-test -3.048513   28   two-sided  0.00498  [-0.13, -0.03]  0.71115  8.252   \n",
      "\n",
      "           power  \n",
      "T-test  0.958658  \n"
     ]
    }
   ],
   "source": [
    "sham_4 = stats_data.query('Treatment == 1 and Run == 4')['Accuracy']\n",
    "stim_4 = stats_data.query('Treatment == 2 and Run == 4')['Accuracy']\n",
    "print(np.mean(sham_4))\n",
    "print(np.mean(stim_4))\n",
    "print(\"\")\n",
    "\n",
    "t_test_1 = ttest_rel(sham_4, stim_4, alternative='less')\n",
    "print(\"\\033[4m\" + \"T-Test 1\" + \"\\033[0m\")\n",
    "print(t_test_1)\n",
    "print(\"\")\n",
    "\n",
    "t_test_2 = pg.ttest(sham_4, stim_4, paired=True)\n",
    "print(\"\\033[4m\" + \"T-Test 2\" + \"\\033[0m\")\n",
    "print(t_test_2)"
   ],
   "metadata": {
    "collapsed": false,
    "pycharm": {
     "name": "#%%\n"
    }
   }
  }
 ],
 "metadata": {
  "kernelspec": {
   "display_name": "Python 3",
   "language": "python",
   "name": "python3"
  },
  "language_info": {
   "codemirror_mode": {
    "name": "ipython",
    "version": 2
   },
   "file_extension": ".py",
   "mimetype": "text/x-python",
   "name": "python",
   "nbconvert_exporter": "python",
   "pygments_lexer": "ipython2",
   "version": "2.7.6"
  }
 },
 "nbformat": 4,
 "nbformat_minor": 0
}