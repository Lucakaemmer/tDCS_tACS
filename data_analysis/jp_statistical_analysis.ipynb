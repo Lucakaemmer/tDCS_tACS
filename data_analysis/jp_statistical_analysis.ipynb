{
 "cells": [
  {
   "cell_type": "code",
   "execution_count": 43,
   "metadata": {
    "collapsed": true,
    "ExecuteTime": {
     "start_time": "2023-04-20T13:32:03.269030Z",
     "end_time": "2023-04-20T13:32:03.480142Z"
    }
   },
   "outputs": [],
   "source": [
    "import matplotlib.cm\n",
    "import numpy as np\n",
    "import pandas as pd\n",
    "from statsmodels.stats.anova import AnovaRM\n",
    "from statsmodels.stats.multicomp import pairwise_tukeyhsd\n",
    "from scipy.stats import ttest_rel\n",
    "from scipy.stats import sem\n",
    "import pingouin as pg\n",
    "from constants import (ACCURACIES_PATH, ACC_UNSHIFTED_PATH, COND_ACC_PATH, RTs_PATH)\n",
    "from utils.utils_statistical_analysis import stats_preprocessing"
   ]
  },
  {
   "cell_type": "markdown",
   "source": [
    "# Importing data and formatting it\n",
    "Imports all the accuracies and brings them into a table that can be used for statistical analysis. Also segments the data to analyse only certain blocks."
   ],
   "metadata": {
    "collapsed": false
   }
  },
  {
   "cell_type": "code",
   "execution_count": 44,
   "outputs": [
    {
     "name": "stdout",
     "output_type": "stream",
     "text": [
      "<class 'pandas.core.frame.DataFrame'>\n",
      "RangeIndex: 360 entries, 0 to 359\n",
      "Data columns (total 4 columns):\n",
      " #   Column     Non-Null Count  Dtype   \n",
      "---  ------     --------------  -----   \n",
      " 0   Subject    360 non-null    category\n",
      " 1   Treatment  360 non-null    category\n",
      " 2   Run        360 non-null    category\n",
      " 3   Accuracy   360 non-null    float64 \n",
      "dtypes: category(3), float64(1)\n",
      "memory usage: 5.6 KB\n"
     ]
    }
   ],
   "source": [
    "accuracies_data = pd.read_csv(ACCURACIES_PATH, header=None)\n",
    "stats_data = stats_preprocessing(accuracies_data)\n",
    "cond_acc = pd.read_csv(COND_ACC_PATH, header=None)\n",
    "\n",
    "stats_data_pre = stats_data.loc[(stats_data['Run'] == 1) | (stats_data['Run'] == 2)]\n",
    "stats_data_treatment = stats_data.loc[(stats_data['Run'] == 3) | (stats_data['Run'] == 4)]\n",
    "stats_data_post = stats_data.loc[(stats_data['Run'] == 5) | (stats_data['Run'] == 6)]\n",
    "\n",
    "stats_data.info()"
   ],
   "metadata": {
    "collapsed": false,
    "ExecuteTime": {
     "start_time": "2023-04-20T13:32:03.297448Z",
     "end_time": "2023-04-20T13:32:03.488868Z"
    }
   }
  },
  {
   "cell_type": "markdown",
   "source": [
    "# ANOVA\n",
    "calculates within-subjects ANOVA"
   ],
   "metadata": {
    "collapsed": false
   }
  },
  {
   "cell_type": "code",
   "execution_count": 46,
   "outputs": [
    {
     "name": "stdout",
     "output_type": "stream",
     "text": [
      "\u001B[4mModel 1\u001B[0m\n",
      "                   Anova\n",
      "============================================\n",
      "              F Value Num DF  Den DF  Pr > F\n",
      "--------------------------------------------\n",
      "Run            1.1026 5.0000 145.0000 0.3617\n",
      "Treatment      0.0274 1.0000  29.0000 0.8697\n",
      "Run:Treatment  1.5101 5.0000 145.0000 0.1902\n",
      "============================================\n",
      "\n",
      "\n",
      "\u001B[4mModel 2\u001B[0m\n",
      "            Source        SS  ddof1  ddof2        MS         F     p-unc   \n",
      "0              Run  0.039426      5    145  0.007885  1.102560  0.361671  \\\n",
      "1        Treatment  0.000278      1     29  0.000278  0.027378  0.869728   \n",
      "2  Run * Treatment  0.073737      5    145  0.014747  1.510086  0.190185   \n",
      "\n",
      "   p-GG-corr       ng2       eps  \n",
      "0   0.360734  0.009930  0.915380  \n",
      "1   0.869728  0.000071  1.000000  \n",
      "2   0.205774  0.018413  0.771206  \n",
      "\n"
     ]
    }
   ],
   "source": [
    "model_1 = AnovaRM(data=stats_data, depvar='Accuracy', subject='Subject', within=['Run', 'Treatment']).fit()\n",
    "print(\"\\033[4m\" + \"Model 1\" + \"\\033[0m\")\n",
    "print(model_1)\n",
    "print(\"\")\n",
    "\n",
    "model_2 = pg.rm_anova(dv='Accuracy', within=['Run', 'Treatment'], subject='Subject', data=stats_data)\n",
    "print(\"\\033[4m\" + \"Model 2\" + \"\\033[0m\")\n",
    "print(model_2)\n",
    "print(\"\")"
   ],
   "metadata": {
    "collapsed": false,
    "ExecuteTime": {
     "start_time": "2023-04-20T13:32:03.318967Z",
     "end_time": "2023-04-20T13:32:03.523043Z"
    }
   }
  },
  {
   "cell_type": "markdown",
   "source": [
    "# T-Test\n",
    "Calculates a t-test comparing individual runs to each other"
   ],
   "metadata": {
    "collapsed": false
   }
  },
  {
   "cell_type": "code",
   "execution_count": 47,
   "outputs": [
    {
     "name": "stdout",
     "output_type": "stream",
     "text": [
      "0.6219806763285024\n",
      "0.6737318840579711\n",
      "\n",
      "\u001B[4mT-Test 1\u001B[0m\n",
      "               T  dof alternative     p-val          CI95%   cohen-d   BF10   \n",
      "T-test -1.883567   29        less  0.034843  [-inf, -0.51]  0.491072  1.843  \\\n",
      "\n",
      "           power  \n",
      "T-test  0.836767  \n",
      "\u001B[4mT-Test 2\u001B[0m\n",
      "TtestResult(statistic=-1.8835673089658451, pvalue=0.03484343549304212, df=29)\n"
     ]
    }
   ],
   "source": [
    "sham_4 = stats_data.query('Treatment == 1 and Run == 4')['Accuracy']\n",
    "stim_4 = stats_data.query('Treatment == 2 and Run == 4')['Accuracy']\n",
    "print(np.mean(sham_4))\n",
    "print(np.mean(stim_4))\n",
    "print(\"\")\n",
    "\n",
    "sham_4 = sham_4 * 100\n",
    "stim_4 = stim_4 * 100\n",
    "\n",
    "t_test_1 = pg.ttest(sham_4, stim_4, paired=True, alternative='less')\n",
    "print(\"\\033[4m\" + \"T-Test 1\" + \"\\033[0m\")\n",
    "print(t_test_1)\n",
    "\n",
    "t_test_2 = ttest_rel(sham_4, stim_4, alternative='less')\n",
    "print(\"\\033[4m\" + \"T-Test 2\" + \"\\033[0m\")\n",
    "print(t_test_2)"
   ],
   "metadata": {
    "collapsed": false,
    "ExecuteTime": {
     "start_time": "2023-04-20T13:32:03.418138Z",
     "end_time": "2023-04-20T13:32:03.523459Z"
    }
   }
  },
  {
   "cell_type": "markdown",
   "source": [
    "# Performance Split\n",
    "Splitting dataset into high and low performers and calculating ANOVA"
   ],
   "metadata": {
    "collapsed": false
   }
  },
  {
   "cell_type": "code",
   "execution_count": 48,
   "outputs": [
    {
     "name": "stdout",
     "output_type": "stream",
     "text": [
      "\u001B[4mLow Performers\u001B[0m\n",
      "0.5869382228077881\n",
      "            Source        SS  ddof1  ddof2        MS         F     p-unc   \n",
      "0              Run  0.087998      5     70  0.017600  2.687691  0.027977  \\\n",
      "1        Treatment  0.004865      1     14  0.004865  0.396308  0.539140   \n",
      "2  Run * Treatment  0.050712      5     70  0.010142  0.842745  0.524040   \n",
      "\n",
      "   p-GG-corr       ng2       eps  \n",
      "0   0.047477  0.050954  0.711995  \n",
      "1   0.539140  0.002959  1.000000  \n",
      "2   0.481618  0.030012  0.623106  \n",
      "\n",
      "\u001B[4mHigh Performers\u001B[0m\n",
      "0.6795857121944078\n",
      "            Source        SS  ddof1  ddof2        MS         F     p-unc   \n",
      "0              Run  0.014059      5     70  0.002812  0.381437  0.859888  \\\n",
      "1        Treatment  0.008713      1     14  0.008713  1.112359  0.309432   \n",
      "2  Run * Treatment  0.050929      5     70  0.010186  1.306564  0.271203   \n",
      "\n",
      "   p-GG-corr       ng2       eps  \n",
      "0   0.819099  0.009834  0.791784  \n",
      "1   0.309432  0.006117  1.000000  \n",
      "2   0.282029  0.034729  0.702572  \n"
     ]
    }
   ],
   "source": [
    "subject_performance = stats_data.Accuracy.to_numpy()\n",
    "subject_performance = np.mean(subject_performance.reshape(-1, 12), axis=1)\n",
    "performance_index = np.argpartition(subject_performance, int(len(subject_performance)/2))\n",
    "performance_index = performance_index + 1\n",
    "performance_index = np.array_split(performance_index,2)\n",
    "\n",
    "low_performers = stats_data[~(stats_data.Subject.isin(performance_index[1]))]\n",
    "high_performers = stats_data[~(stats_data.Subject.isin(performance_index[0]))]\n",
    "\n",
    "anova_low_performers = pg.rm_anova(dv='Accuracy', within=['Run', 'Treatment'], subject='Subject', data=low_performers)\n",
    "anova_high_performers = pg.rm_anova(dv='Accuracy', within=['Run', 'Treatment'], subject='Subject', data=high_performers)\n",
    "\n",
    "print(\"\\033[4m\" + \"Low Performers\" + \"\\033[0m\")\n",
    "print(np.mean(low_performers.Accuracy))\n",
    "print(anova_low_performers)\n",
    "print(\"\")\n",
    "print(\"\\033[4m\" + \"High Performers\" + \"\\033[0m\")\n",
    "print(np.mean(high_performers.Accuracy))\n",
    "print(anova_high_performers)"
   ],
   "metadata": {
    "collapsed": false,
    "ExecuteTime": {
     "start_time": "2023-04-20T13:32:03.447745Z",
     "end_time": "2023-04-20T13:32:03.524085Z"
    }
   }
  },
  {
   "cell_type": "markdown",
   "source": [
    "# Variance Split\n",
    "Splitting dataset into subjects with high and low variance and calculating ANOVA"
   ],
   "metadata": {
    "collapsed": false
   }
  },
  {
   "cell_type": "code",
   "execution_count": 49,
   "outputs": [
    {
     "name": "stdout",
     "output_type": "stream",
     "text": [
      "\u001B[4mLow Variance\u001B[0m\n",
      "Mean Accuracy = 0.6183254647928559\n",
      "Mean Variance = 0.006048358705199442\n",
      "            Source        SS  ddof1  ddof2        MS         F     p-unc   \n",
      "0              Run  0.034528      5     70  0.006906  0.858475  0.513453  \\\n",
      "1        Treatment  0.002086      1     14  0.002086  0.152938  0.701631   \n",
      "2  Run * Treatment  0.124834      5     70  0.024967  1.843896  0.115490   \n",
      "\n",
      "   p-GG-corr       ng2       eps  \n",
      "0   0.485713  0.015260  0.720549  \n",
      "1   0.701631  0.000935  1.000000  \n",
      "2   0.146311  0.053053  0.670416  \n",
      "\n",
      "\u001B[4mHigh Variance\u001B[0m\n",
      "Mean Accuracy = 0.6481984702093397\n",
      "Mean Variance = 0.011292980480732235\n",
      "            Source        SS  ddof1  ddof2        MS         F     p-unc   \n",
      "0              Run  0.021745      5     70  0.004349  0.666033  0.650437  \\\n",
      "1        Treatment  0.004798      1     14  0.004798  0.690972  0.419786   \n",
      "2  Run * Treatment  0.013619      5     70  0.002724  0.472503  0.795522   \n",
      "\n",
      "   p-GG-corr       ng2       eps  \n",
      "0   0.609315  0.013974  0.751420  \n",
      "1   0.419786  0.003118  1.000000  \n",
      "2   0.722559  0.008798  0.667095  \n"
     ]
    }
   ],
   "source": [
    "variances = accuracies_data.var(axis=1)\n",
    "variance_index = np.argpartition(variances, int(len(variances)/2))\n",
    "variance_index = variance_index + 1\n",
    "variance_index = np.array_split(variance_index,2)\n",
    "\n",
    "low_variance = stats_data[~(stats_data.Subject.isin(variance_index[0]))]\n",
    "high_variance = stats_data[~(stats_data.Subject.isin(variance_index[1]))]\n",
    "\n",
    "anova_low_variance = pg.rm_anova(dv='Accuracy', within=['Run', 'Treatment'], subject='Subject', data=low_variance)\n",
    "anova_high_variance = pg.rm_anova(dv='Accuracy', within=['Run', 'Treatment'], subject='Subject', data=high_variance)\n",
    "\n",
    "print(\"\\033[4m\" + \"Low Variance\" + \"\\033[0m\")\n",
    "print(\"Mean Accuracy = \" + str(np.mean(low_variance.Accuracy)))\n",
    "print(\"Mean Variance = \" + str(np.mean(variances[variance_index[0] - 1])))\n",
    "print(anova_low_variance)\n",
    "print(\"\")\n",
    "print(\"\\033[4m\" + \"High Variance\" + \"\\033[0m\")\n",
    "print(\"Mean Accuracy = \" + str(np.mean(high_variance.Accuracy)))\n",
    "print(\"Mean Variance = \" + str(np.mean(variances[variance_index[1] - 1])))\n",
    "print(anova_high_variance)"
   ],
   "metadata": {
    "collapsed": false,
    "ExecuteTime": {
     "start_time": "2023-04-20T13:32:03.506886Z",
     "end_time": "2023-04-20T13:32:03.657101Z"
    }
   }
  },
  {
   "cell_type": "markdown",
   "source": [
    "# Comparing day 1 to day 2\n",
    "Using the unshifted data to test if there is a difference in the performance between day 1 and day 2 and to see if there is a learning effect"
   ],
   "metadata": {
    "collapsed": false
   }
  },
  {
   "cell_type": "code",
   "execution_count": 50,
   "outputs": [
    {
     "name": "stdout",
     "output_type": "stream",
     "text": [
      "\u001B[4mANOVA comparing day 1 and 2\u001B[0m\n",
      "            Source        SS  ddof1  ddof2        MS         F     p-unc   \n",
      "0              Run  0.028988      5    155  0.005798  0.808349  0.545344  \\\n",
      "1        Treatment  0.001393      1     31  0.001393  0.140839  0.710004   \n",
      "2  Run * Treatment  0.053952      5    155  0.010790  1.105476  0.359779   \n",
      "\n",
      "   p-GG-corr       ng2       eps  \n",
      "0   0.534290  0.006554  0.899613  \n",
      "1   0.710004  0.000317  1.000000  \n",
      "2   0.356783  0.012130  0.786865  \n",
      "\n",
      "\u001B[4mANOVA of day 1\u001B[0m\n",
      "  Source  ddof1  ddof2         F     p-unc       ng2       eps\n",
      "0    Run      5    145  0.469302  0.798648  0.010026  0.793371\n",
      "\n",
      "\u001B[4mANOVA of day 2\u001B[0m\n",
      "  Source  ddof1  ddof2         F     p-unc       ng2       eps\n",
      "0    Run      5    145  2.212851  0.056101  0.045327  0.872518\n"
     ]
    }
   ],
   "source": [
    "accuracies_unshifted_data = pd.read_csv(ACC_UNSHIFTED_PATH, header=None)\n",
    "stats_data_unshifted = stats_preprocessing(accuracies_unshifted_data)\n",
    "\n",
    "stats_data_day1 = stats_data.loc[(stats_data['Treatment'] == 1)]\n",
    "stats_data_day2 = stats_data.loc[(stats_data['Treatment'] == 2)]\n",
    "\n",
    "unshifted_anova = pg.rm_anova(dv='Accuracy', within=['Run', 'Treatment'], subject='Subject', data=stats_data_unshifted)\n",
    "anova_day1 = pg.rm_anova(dv='Accuracy', within=['Run'], subject='Subject', data=stats_data_day1)\n",
    "anova_day2 = pg.rm_anova(dv='Accuracy', within=['Run'], subject='Subject', data=stats_data_day2)\n",
    "\n",
    "print(\"\\033[4m\" + \"ANOVA comparing day 1 and 2\" + \"\\033[0m\")\n",
    "print(unshifted_anova)\n",
    "print(\"\")\n",
    "print(\"\\033[4m\" + \"ANOVA of day 1\" + \"\\033[0m\")\n",
    "print(anova_day1)\n",
    "print(\"\")\n",
    "print(\"\\033[4m\" + \"ANOVA of day 2\" + \"\\033[0m\")\n",
    "print(anova_day2)"
   ],
   "metadata": {
    "collapsed": false,
    "ExecuteTime": {
     "start_time": "2023-04-20T13:32:03.573640Z",
     "end_time": "2023-04-20T13:32:03.676906Z"
    }
   }
  },
  {
   "cell_type": "markdown",
   "source": [
    "# Comparing Baseline to Stimulation Phase\n",
    "Calculating the ANOVA comparing baseline trials with trial 3 and 4. First on both days, then only on the day of the actual stimulation."
   ],
   "metadata": {
    "collapsed": false
   }
  },
  {
   "cell_type": "code",
   "execution_count": 51,
   "outputs": [
    {
     "name": "stdout",
     "output_type": "stream",
     "text": [
      "\u001B[4mANOVA comparing Baseline to run 3 and 4\u001B[0m\n",
      "            Source        SS  ddof1  ddof2        MS         F     p-unc   \n",
      "0              Run  0.030176      4    116  0.007544  1.218305  0.306869  \\\n",
      "1        Treatment  0.002025      1     29  0.002025  0.232004  0.633657   \n",
      "2  Run * Treatment  0.045915      4    116  0.011479  1.231386  0.301421   \n",
      "\n",
      "   p-GG-corr       ng2       eps  \n",
      "0   0.307684  0.009466  0.901629  \n",
      "1   0.633657  0.000641  1.000000  \n",
      "2   0.303237  0.014333  0.760820  \n",
      "\n",
      "\u001B[4mANOVA comparing Baseline to run 3 and 4 in treatment condition\u001B[0m\n",
      "  Source  ddof1  ddof2         F     p-unc       ng2       eps\n",
      "0    Run      4    116  2.242153  0.068702  0.040615  0.841719\n",
      "\n"
     ]
    }
   ],
   "source": [
    "#stats_data_short = stats_data.loc[(stats_data['Run'] == 1) | (stats_data['Run'] == 2) | (stats_data['Run'] == 3) | (stats_data['Run'] == 4)]\n",
    "stats_data.Run = stats_data.Run.replace(2, 1)\n",
    "anova_short = pg.rm_anova(dv='Accuracy', within=['Run', 'Treatment'], subject='Subject', data=stats_data)\n",
    "\n",
    "stats_data_treatment = stats_data.loc[(stats_data['Treatment'] == 2)]\n",
    "anova_short_treatment = pg.rm_anova(dv='Accuracy', within=['Run'], subject='Subject', data=stats_data_treatment)\n",
    "\n",
    "#tukey = pairwise_tukeyhsd(endog=stats_data_treatment['Accuracy'],\n",
    "#                          groups=stats_data_treatment['Run'],\n",
    "#                          alpha=0.05)\n",
    "\n",
    "print(\"\\033[4m\" + \"ANOVA comparing Baseline to run 3 and 4\" + \"\\033[0m\")\n",
    "print(anova_short)\n",
    "print(\"\")\n",
    "print(\"\\033[4m\" + \"ANOVA comparing Baseline to run 3 and 4 in treatment condition\" + \"\\033[0m\")\n",
    "print(anova_short_treatment)\n",
    "print(\"\")\n",
    "#print(\"\\033[4m\" + \"Pairwise comparisons\" + \"\\033[0m\")\n",
    "#print(tukey)"
   ],
   "metadata": {
    "collapsed": false,
    "ExecuteTime": {
     "start_time": "2023-04-20T13:32:03.634570Z",
     "end_time": "2023-04-20T13:32:03.707967Z"
    }
   }
  },
  {
   "cell_type": "markdown",
   "source": [
    "# Comparing Sham to Stimulation Phase\n",
    "Calculating ANOVA comparing run 3 and 4 of the sham day with run 3 and 4 of the stimulation day"
   ],
   "metadata": {
    "collapsed": false
   }
  },
  {
   "cell_type": "code",
   "execution_count": 52,
   "outputs": [
    {
     "name": "stdout",
     "output_type": "stream",
     "text": [
      "            Source        SS  ddof1  ddof2        MS         F     p-unc   \n",
      "0              Run  0.025530      1     29  0.025530  4.092442  0.052381  \\\n",
      "1        Treatment  0.010519      1     29  0.010519  0.937197  0.341005   \n",
      "2  Run * Treatment  0.032721      1     29  0.032721  3.738896  0.062974   \n",
      "\n",
      "   p-GG-corr       ng2  eps  \n",
      "0   0.052381  0.018259  1.0  \n",
      "1   0.341005  0.007605  1.0  \n",
      "2   0.062974  0.023282  1.0  \n"
     ]
    },
    {
     "name": "stderr",
     "output_type": "stream",
     "text": [
      "/var/folders/4s/vsfy4zzj7dn26fyg39nxt_8w0000gn/T/ipykernel_40422/2712407801.py:2: SettingWithCopyWarning: \n",
      "A value is trying to be set on a copy of a slice from a DataFrame.\n",
      "Try using .loc[row_indexer,col_indexer] = value instead\n",
      "\n",
      "See the caveats in the documentation: https://pandas.pydata.org/pandas-docs/stable/user_guide/indexing.html#returning-a-view-versus-a-copy\n",
      "  stats_data_sham_stim.loc[(stats_data['Treatment'] == 1)].Run = stats_data_sham_stim.loc[(stats_data['Treatment'] == 1)].Run.replace(4, 3)\n"
     ]
    }
   ],
   "source": [
    "stats_data_sham_stim = stats_data.loc[(stats_data['Run'] == 3) | (stats_data['Run'] == 4)]\n",
    "stats_data_sham_stim.loc[(stats_data['Treatment'] == 1)].Run = stats_data_sham_stim.loc[(stats_data['Treatment'] == 1)].Run.replace(4, 3)\n",
    "\n",
    "anova_sham_stim = pg.rm_anova(dv='Accuracy', within=['Run', 'Treatment'], subject='Subject', data=stats_data_sham_stim)\n",
    "print(anova_sham_stim)"
   ],
   "metadata": {
    "collapsed": false,
    "ExecuteTime": {
     "start_time": "2023-04-20T13:32:03.684355Z",
     "end_time": "2023-04-20T13:32:03.719991Z"
    }
   }
  },
  {
   "cell_type": "code",
   "execution_count": 53,
   "outputs": [
    {
     "name": "stdout",
     "output_type": "stream",
     "text": [
      "2      3\n",
      "3      4\n",
      "14     3\n",
      "15     4\n",
      "26     3\n",
      "27     4\n",
      "38     3\n",
      "39     4\n",
      "50     3\n",
      "51     4\n",
      "62     3\n",
      "63     4\n",
      "74     3\n",
      "75     4\n",
      "86     3\n",
      "87     4\n",
      "98     3\n",
      "99     4\n",
      "110    3\n",
      "111    4\n",
      "122    3\n",
      "123    4\n",
      "134    3\n",
      "135    4\n",
      "146    3\n",
      "147    4\n",
      "158    3\n",
      "159    4\n",
      "170    3\n",
      "171    4\n",
      "182    3\n",
      "183    4\n",
      "194    3\n",
      "195    4\n",
      "206    3\n",
      "207    4\n",
      "218    3\n",
      "219    4\n",
      "230    3\n",
      "231    4\n",
      "242    3\n",
      "243    4\n",
      "254    3\n",
      "255    4\n",
      "266    3\n",
      "267    4\n",
      "278    3\n",
      "279    4\n",
      "290    3\n",
      "291    4\n",
      "302    3\n",
      "303    4\n",
      "314    3\n",
      "315    4\n",
      "326    3\n",
      "327    4\n",
      "338    3\n",
      "339    4\n",
      "350    3\n",
      "351    4\n",
      "Name: Run, dtype: category\n",
      "Categories (5, int64): [1, 3, 4, 5, 6]\n"
     ]
    }
   ],
   "source": [
    "print(stats_data_sham_stim.loc[(stats_data['Treatment'] == 1)].Run)"
   ],
   "metadata": {
    "collapsed": false,
    "ExecuteTime": {
     "start_time": "2023-04-20T13:32:03.713782Z",
     "end_time": "2023-04-20T13:32:03.725342Z"
    }
   }
  },
  {
   "cell_type": "markdown",
   "source": [
    "# Descriptives on individual subjects\n",
    "General statistics of individual subjects needed for the results section"
   ],
   "metadata": {
    "collapsed": false
   }
  },
  {
   "cell_type": "code",
   "execution_count": 54,
   "outputs": [
    {
     "name": "stdout",
     "output_type": "stream",
     "text": [
      "0.7291666666666665\n",
      "0.12115292114938993\n",
      "0.6332619675010978\n",
      "0.10614001730855123\n",
      "0.005594070093078611\n"
     ]
    }
   ],
   "source": [
    "# get mean and SD of single participant\n",
    "subject = 26\n",
    "print(accuracies_data.iloc[subject].mean())\n",
    "print(accuracies_data.iloc[subject].std())\n",
    "\n",
    "# get mean and SD of all participants\n",
    "print(accuracies_data.stack().mean())\n",
    "print(accuracies_data.stack().std())\n",
    "print(sem(accuracies_data.stack()))\n",
    "\n",
    "# get mean and SD of day 1 or day 2\n",
    "# print(stats_data_day1[\"Accuracy\"].mean())\n",
    "# print(stats_data_day2[\"Accuracy\"].mean())\n",
    "# print(stats_data_day1[\"Accuracy\"].std())\n",
    "# print(stats_data_day2[\"Accuracy\"].std())\n",
    "\n",
    "# age of the participants\n",
    "# age = [28, 24, 23, 23, 23, 28, 23, 26, 25, 24, 27, 27, 23, 26, 21, 25, 24, 36, 24, 26, 26, 26, 29, 34, 24, 22, 34, 25, 28, 26, 25, 26]\n",
    "# print(len(age))\n",
    "# print(np.mean(age))\n",
    "# print(np.median(age))\n",
    "# print(np.std(age))\n",
    "# print(min(age))\n",
    "# print(max(age))"
   ],
   "metadata": {
    "collapsed": false,
    "ExecuteTime": {
     "start_time": "2023-04-20T13:32:03.720082Z",
     "end_time": "2023-04-20T13:32:03.725526Z"
    }
   }
  },
  {
   "cell_type": "markdown",
   "source": [
    "Comparing accuracy for remember stimulus 1 and remember stimulus 2"
   ],
   "metadata": {
    "collapsed": false
   }
  },
  {
   "cell_type": "code",
   "execution_count": 55,
   "outputs": [
    {
     "name": "stdout",
     "output_type": "stream",
     "text": [
      "0.6335468219668099\n",
      "0.6330849320361348\n",
      "0.06394476211463561\n",
      "0.06034410459973374\n",
      "\u001B[4mConditional T-Test\u001B[0m\n",
      "               T  dof alternative     p-val          CI95%   cohen-d   BF10   \n",
      "T-test -1.883567   29        less  0.034843  [-inf, -0.51]  0.491072  1.843  \\\n",
      "\n",
      "           power  \n",
      "T-test  0.836767  \n"
     ]
    }
   ],
   "source": [
    "print(np.mean(cond_acc.loc[0]))\n",
    "print(np.mean(cond_acc.loc[1]))\n",
    "print(np.std(cond_acc.loc[0]))\n",
    "print(np.std(cond_acc.loc[1]))\n",
    "\n",
    "cond_ttest = pg.ttest(cond_acc.loc[0], cond_acc.loc[1], paired=False)\n",
    "print(\"\\033[4m\" + \"Conditional T-Test\" + \"\\033[0m\")\n",
    "print(t_test_1)"
   ],
   "metadata": {
    "collapsed": false,
    "ExecuteTime": {
     "start_time": "2023-04-20T13:32:03.731618Z",
     "end_time": "2023-04-20T13:32:03.808991Z"
    }
   }
  }
 ],
 "metadata": {
  "kernelspec": {
   "display_name": "Python 3",
   "language": "python",
   "name": "python3"
  },
  "language_info": {
   "codemirror_mode": {
    "name": "ipython",
    "version": 2
   },
   "file_extension": ".py",
   "mimetype": "text/x-python",
   "name": "python",
   "nbconvert_exporter": "python",
   "pygments_lexer": "ipython2",
   "version": "2.7.6"
  }
 },
 "nbformat": 4,
 "nbformat_minor": 0
}
