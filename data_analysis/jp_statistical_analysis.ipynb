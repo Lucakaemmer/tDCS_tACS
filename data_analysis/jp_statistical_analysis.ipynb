{
 "cells": [
  {
   "cell_type": "code",
   "execution_count": 26,
   "metadata": {
    "collapsed": true,
    "pycharm": {
     "name": "#%%\n"
    }
   },
   "outputs": [
    {
     "ename": "ValueError",
     "evalue": "A colormap named \"polar\" is already registered.",
     "output_type": "error",
     "traceback": [
      "\u001B[0;31m---------------------------------------------------------------------------\u001B[0m",
      "\u001B[0;31mValueError\u001B[0m                                Traceback (most recent call last)",
      "Cell \u001B[0;32mIn [26], line 2\u001B[0m\n\u001B[1;32m      1\u001B[0m \u001B[38;5;28;01mimport\u001B[39;00m \u001B[38;5;21;01mmatplotlib\u001B[39;00m\u001B[38;5;21;01m.\u001B[39;00m\u001B[38;5;21;01mcm\u001B[39;00m\n\u001B[0;32m----> 2\u001B[0m \u001B[38;5;28;01mimport\u001B[39;00m \u001B[38;5;21;01meelbrain\u001B[39;00m \u001B[38;5;28;01mas\u001B[39;00m \u001B[38;5;21;01meelbrain\u001B[39;00m\n\u001B[1;32m      3\u001B[0m \u001B[38;5;28;01mimport\u001B[39;00m \u001B[38;5;21;01mnumpy\u001B[39;00m \u001B[38;5;28;01mas\u001B[39;00m \u001B[38;5;21;01mnp\u001B[39;00m\n\u001B[1;32m      4\u001B[0m \u001B[38;5;28;01mimport\u001B[39;00m \u001B[38;5;21;01mpandas\u001B[39;00m \u001B[38;5;28;01mas\u001B[39;00m \u001B[38;5;21;01mpd\u001B[39;00m\n",
      "File \u001B[0;32m~/.conda/envs/data_analysis/lib/python3.9/site-packages/eelbrain/__init__.py:21\u001B[0m\n\u001B[1;32m     19\u001B[0m \u001B[38;5;28;01mfrom\u001B[39;00m \u001B[38;5;21;01m.\u001B[39;00m\u001B[38;5;21;01m_celltable\u001B[39;00m \u001B[38;5;28;01mimport\u001B[39;00m Celltable\n\u001B[1;32m     20\u001B[0m \u001B[38;5;28;01mfrom\u001B[39;00m \u001B[38;5;21;01m.\u001B[39;00m\u001B[38;5;21;01m_data_obj\u001B[39;00m \u001B[38;5;28;01mimport\u001B[39;00m Datalist, Dataset, Var, Factor, Interaction, Model, NDVar, Case, Categorial, Scalar, Sensor, SourceSpace, VolumeSourceSpace, UTS, Space, choose, combine, align, align1, cellname, shuffled_index\n\u001B[0;32m---> 21\u001B[0m \u001B[38;5;28;01mfrom\u001B[39;00m \u001B[38;5;21;01m.\u001B[39;00m\u001B[38;5;21;01m_experiment\u001B[39;00m \u001B[38;5;28;01mimport\u001B[39;00m MneExperiment\n\u001B[1;32m     22\u001B[0m \u001B[38;5;28;01mfrom\u001B[39;00m \u001B[38;5;21;01m.\u001B[39;00m\u001B[38;5;21;01m_mne\u001B[39;00m \u001B[38;5;28;01mimport\u001B[39;00m complete_source_space, labels_from_clusters, morph_source_space, resample_ico_source_space, xhemi\n\u001B[1;32m     23\u001B[0m \u001B[38;5;28;01mfrom\u001B[39;00m \u001B[38;5;21;01m.\u001B[39;00m\u001B[38;5;21;01m_ndvar\u001B[39;00m \u001B[38;5;28;01mimport\u001B[39;00m Butterworth, concatenate, convolve, correlation_coefficient, cross_correlation, cwt_morlet, dss, filter_data, find_intervals, find_peaks, frequency_response, gaussian, label_operator, maximum, minimum, neighbor_correlation, normalize_in_cells, powerlaw_noise, psd_welch, rename_dim, resample, segment, set_connectivity, set_parc, set_time, set_tmin\n",
      "File \u001B[0;32m~/.conda/envs/data_analysis/lib/python3.9/site-packages/eelbrain/_experiment/__init__.py:5\u001B[0m\n\u001B[1;32m      2\u001B[0m \u001B[38;5;124;03m\"\"\"Objects for managing files\"\"\"\u001B[39;00m\n\u001B[1;32m      4\u001B[0m \u001B[38;5;28;01mfrom\u001B[39;00m \u001B[38;5;21;01m.\u001B[39;00m\u001B[38;5;21;01mexperiment\u001B[39;00m \u001B[38;5;28;01mimport\u001B[39;00m TreeModel, FileTree\n\u001B[0;32m----> 5\u001B[0m \u001B[38;5;28;01mfrom\u001B[39;00m \u001B[38;5;21;01m.\u001B[39;00m\u001B[38;5;21;01mmne_experiment\u001B[39;00m \u001B[38;5;28;01mimport\u001B[39;00m MneExperiment\n\u001B[1;32m      6\u001B[0m \u001B[38;5;28;01mfrom\u001B[39;00m \u001B[38;5;21;01m.\u001B[39;00m\u001B[38;5;21;01mtest_def\u001B[39;00m \u001B[38;5;28;01mimport\u001B[39;00m ROITestResult, ROI2StageResult\n",
      "File \u001B[0;32m~/.conda/envs/data_analysis/lib/python3.9/site-packages/eelbrain/_experiment/mne_experiment.py:24\u001B[0m\n\u001B[1;32m     21\u001B[0m \u001B[38;5;28;01mfrom\u001B[39;00m \u001B[38;5;21;01mmne\u001B[39;00m\u001B[38;5;21;01m.\u001B[39;00m\u001B[38;5;21;01mminimum_norm\u001B[39;00m \u001B[38;5;28;01mimport\u001B[39;00m make_inverse_operator, apply_inverse, apply_inverse_epochs, apply_inverse_raw\n\u001B[1;32m     23\u001B[0m \u001B[38;5;28;01mfrom\u001B[39;00m \u001B[38;5;21;01m.\u001B[39;00m\u001B[38;5;21;01m.\u001B[39;00m \u001B[38;5;28;01mimport\u001B[39;00m fmtxt\n\u001B[0;32m---> 24\u001B[0m \u001B[38;5;28;01mfrom\u001B[39;00m \u001B[38;5;21;01m.\u001B[39;00m\u001B[38;5;21;01m.\u001B[39;00m \u001B[38;5;28;01mimport\u001B[39;00m gui\n\u001B[1;32m     25\u001B[0m \u001B[38;5;28;01mfrom\u001B[39;00m \u001B[38;5;21;01m.\u001B[39;00m\u001B[38;5;21;01m.\u001B[39;00m \u001B[38;5;28;01mimport\u001B[39;00m load\n\u001B[1;32m     26\u001B[0m \u001B[38;5;28;01mfrom\u001B[39;00m \u001B[38;5;21;01m.\u001B[39;00m\u001B[38;5;21;01m.\u001B[39;00m \u001B[38;5;28;01mimport\u001B[39;00m plot\n",
      "File \u001B[0;32m~/.conda/envs/data_analysis/lib/python3.9/site-packages/eelbrain/gui.py:2\u001B[0m\n\u001B[1;32m      1\u001B[0m \u001B[38;5;124;03m\"\"\"Eelbrain GUIs\"\"\"\u001B[39;00m\n\u001B[0;32m----> 2\u001B[0m \u001B[38;5;28;01mfrom\u001B[39;00m \u001B[38;5;21;01m.\u001B[39;00m\u001B[38;5;21;01m_wxgui\u001B[39;00m\u001B[38;5;21;01m.\u001B[39;00m\u001B[38;5;21;01mselect_components\u001B[39;00m \u001B[38;5;28;01mimport\u001B[39;00m select_components\n\u001B[1;32m      5\u001B[0m \u001B[38;5;28;01mdef\u001B[39;00m \u001B[38;5;21mrun\u001B[39m(block\u001B[38;5;241m=\u001B[39m\u001B[38;5;28;01mFalse\u001B[39;00m):\n\u001B[1;32m      6\u001B[0m     \u001B[38;5;124;03m\"\"\"Hand over command to the GUI (quit the GUI to return to the terminal)\u001B[39;00m\n\u001B[1;32m      7\u001B[0m \n\u001B[1;32m      8\u001B[0m \u001B[38;5;124;03m    Parameters\u001B[39;00m\n\u001B[0;32m   (...)\u001B[0m\n\u001B[1;32m     14\u001B[0m \u001B[38;5;124;03m        script.\u001B[39;00m\n\u001B[1;32m     15\u001B[0m \u001B[38;5;124;03m    \"\"\"\u001B[39;00m\n",
      "File \u001B[0;32m~/.conda/envs/data_analysis/lib/python3.9/site-packages/eelbrain/_wxgui/__init__.py:17\u001B[0m\n\u001B[1;32m     14\u001B[0m     wx\u001B[38;5;241m.\u001B[39mLog\u001B[38;5;241m.\u001B[39mEnableLogging(\u001B[38;5;28;01mFalse\u001B[39;00m)\n\u001B[1;32m     16\u001B[0m \u001B[38;5;28;01mfrom\u001B[39;00m \u001B[38;5;21;01m.\u001B[39;00m\u001B[38;5;21;01mutils\u001B[39;00m \u001B[38;5;28;01mimport\u001B[39;00m Icon, show_text_dialog\n\u001B[0;32m---> 17\u001B[0m \u001B[38;5;28;01mfrom\u001B[39;00m \u001B[38;5;21;01m.\u001B[39;00m\u001B[38;5;21;01mapp\u001B[39;00m \u001B[38;5;28;01mimport\u001B[39;00m needs_jumpstart, get_app, run\n\u001B[1;32m     18\u001B[0m \u001B[38;5;28;01mfrom\u001B[39;00m \u001B[38;5;21;01m.\u001B[39;00m \u001B[38;5;28;01mimport\u001B[39;00m history, select_epochs, select_components, load_stcs\n",
      "File \u001B[0;32m~/.conda/envs/data_analysis/lib/python3.9/site-packages/eelbrain/_wxgui/app.py:13\u001B[0m\n\u001B[1;32m     10\u001B[0m \u001B[38;5;28;01mfrom\u001B[39;00m \u001B[38;5;21;01mwx\u001B[39;00m\u001B[38;5;21;01m.\u001B[39;00m\u001B[38;5;21;01madv\u001B[39;00m \u001B[38;5;28;01mimport\u001B[39;00m TaskBarIcon, TBI_DOCK\n\u001B[1;32m     12\u001B[0m \u001B[38;5;28;01mfrom\u001B[39;00m \u001B[38;5;21;01m.\u001B[39;00m\u001B[38;5;21;01m.\u001B[39;00m\u001B[38;5;21;01m_utils\u001B[39;00m \u001B[38;5;28;01mimport\u001B[39;00m IS_OSX, IS_WINDOWS\n\u001B[0;32m---> 13\u001B[0m \u001B[38;5;28;01mfrom\u001B[39;00m \u001B[38;5;21;01m.\u001B[39;00m\u001B[38;5;21;01m.\u001B[39;00m\u001B[38;5;21;01mplot\u001B[39;00m\u001B[38;5;21;01m.\u001B[39;00m\u001B[38;5;21;01m_base\u001B[39;00m \u001B[38;5;28;01mimport\u001B[39;00m CONFIG\n\u001B[1;32m     14\u001B[0m \u001B[38;5;28;01mfrom\u001B[39;00m \u001B[38;5;21;01m.\u001B[39;00m\u001B[38;5;21;01mabout\u001B[39;00m \u001B[38;5;28;01mimport\u001B[39;00m AboutFrame\n\u001B[1;32m     15\u001B[0m \u001B[38;5;28;01mfrom\u001B[39;00m \u001B[38;5;21;01m.\u001B[39;00m\u001B[38;5;21;01mframe\u001B[39;00m \u001B[38;5;28;01mimport\u001B[39;00m FOCUS_UI_UPDATE_FUNC_NAMES, EelbrainFrame\n",
      "File \u001B[0;32m~/.conda/envs/data_analysis/lib/python3.9/site-packages/eelbrain/plot/__init__.py:4\u001B[0m\n\u001B[1;32m      1\u001B[0m \u001B[38;5;124;03m\"\"\"Plotting for data-objects\"\"\"\u001B[39;00m\n\u001B[1;32m      2\u001B[0m \u001B[38;5;66;03m# Author: Christian Brodbeck <christianbrodbeck@nyu.edu>\u001B[39;00m\n\u001B[0;32m----> 4\u001B[0m \u001B[38;5;28;01mfrom\u001B[39;00m \u001B[38;5;21;01m.\u001B[39;00m\u001B[38;5;21;01m.\u001B[39;00m\u001B[38;5;21;01m_colorspaces\u001B[39;00m \u001B[38;5;28;01mimport\u001B[39;00m two_step_colormap, unambiguous_color\n\u001B[1;32m      6\u001B[0m \u001B[38;5;28;01mfrom\u001B[39;00m \u001B[38;5;21;01m.\u001B[39;00m\u001B[38;5;21;01m_base\u001B[39;00m \u001B[38;5;28;01mimport\u001B[39;00m reset_rc, subplots\n\u001B[1;32m      7\u001B[0m \u001B[38;5;28;01mfrom\u001B[39;00m \u001B[38;5;21;01m.\u001B[39;00m\u001B[38;5;21;01m_colors\u001B[39;00m \u001B[38;5;28;01mimport\u001B[39;00m ColorBar, ColorGrid, ColorList\n",
      "File \u001B[0;32m~/.conda/envs/data_analysis/lib/python3.9/site-packages/eelbrain/_colorspaces.py:624\u001B[0m\n\u001B[1;32m    620\u001B[0m         cmap \u001B[38;5;241m=\u001B[39m LinearSegmentedColormap(\u001B[38;5;124m'\u001B[39m\u001B[38;5;124mcold_white_hot\u001B[39m\u001B[38;5;124m'\u001B[39m, pigtailed_cmap(\u001B[38;5;124m'\u001B[39m\u001B[38;5;124mhot_r\u001B[39m\u001B[38;5;124m'\u001B[39m))\n\u001B[1;32m    621\u001B[0m         matplotlib\u001B[38;5;241m.\u001B[39mcolormaps\u001B[38;5;241m.\u001B[39mregister(cmap)\n\u001B[0;32m--> 624\u001B[0m \u001B[43mmake_cmaps\u001B[49m\u001B[43m(\u001B[49m\u001B[43m)\u001B[49m\n\u001B[1;32m    626\u001B[0m \u001B[38;5;66;03m# https://matplotlib.org/tutorials/colors/colormaps.html\u001B[39;00m\n\u001B[1;32m    627\u001B[0m mpl_diverging \u001B[38;5;241m=\u001B[39m (\u001B[38;5;124m'\u001B[39m\u001B[38;5;124mPiYG\u001B[39m\u001B[38;5;124m'\u001B[39m, \u001B[38;5;124m'\u001B[39m\u001B[38;5;124mPRGn\u001B[39m\u001B[38;5;124m'\u001B[39m, \u001B[38;5;124m'\u001B[39m\u001B[38;5;124mBrBG\u001B[39m\u001B[38;5;124m'\u001B[39m, \u001B[38;5;124m'\u001B[39m\u001B[38;5;124mPuOr\u001B[39m\u001B[38;5;124m'\u001B[39m, \u001B[38;5;124m'\u001B[39m\u001B[38;5;124mRdGy\u001B[39m\u001B[38;5;124m'\u001B[39m, \u001B[38;5;124m'\u001B[39m\u001B[38;5;124mRdBu\u001B[39m\u001B[38;5;124m'\u001B[39m, \u001B[38;5;124m'\u001B[39m\u001B[38;5;124mRdYlBu\u001B[39m\u001B[38;5;124m'\u001B[39m, \u001B[38;5;124m'\u001B[39m\u001B[38;5;124mRdYlGn\u001B[39m\u001B[38;5;124m'\u001B[39m, \u001B[38;5;124m'\u001B[39m\u001B[38;5;124mSpectral\u001B[39m\u001B[38;5;124m'\u001B[39m, \u001B[38;5;124m'\u001B[39m\u001B[38;5;124mcoolwarm\u001B[39m\u001B[38;5;124m'\u001B[39m, \u001B[38;5;124m'\u001B[39m\u001B[38;5;124mbwr\u001B[39m\u001B[38;5;124m'\u001B[39m, \u001B[38;5;124m'\u001B[39m\u001B[38;5;124mseismic\u001B[39m\u001B[38;5;124m'\u001B[39m)\n",
      "File \u001B[0;32m~/.conda/envs/data_analysis/lib/python3.9/site-packages/eelbrain/_colorspaces.py:394\u001B[0m, in \u001B[0;36mmake_cmaps\u001B[0;34m()\u001B[0m\n\u001B[1;32m    387\u001B[0m cmap \u001B[38;5;241m=\u001B[39m LinearSegmentedColormap\u001B[38;5;241m.\u001B[39mfrom_list(\n\u001B[1;32m    388\u001B[0m     \u001B[38;5;124m\"\u001B[39m\u001B[38;5;124mpolar\u001B[39m\u001B[38;5;124m\"\u001B[39m, (\n\u001B[1;32m    389\u001B[0m         (\u001B[38;5;241m0.0\u001B[39m, (\u001B[38;5;241m0.0\u001B[39m, \u001B[38;5;241m0.0\u001B[39m, \u001B[38;5;241m1.0\u001B[39m)),\n\u001B[1;32m    390\u001B[0m         (\u001B[38;5;241m0.5\u001B[39m, (\u001B[38;5;241m1.0\u001B[39m, \u001B[38;5;241m1.0\u001B[39m, \u001B[38;5;241m1.0\u001B[39m)),\n\u001B[1;32m    391\u001B[0m         (\u001B[38;5;241m1.0\u001B[39m, (\u001B[38;5;241m1.0\u001B[39m, \u001B[38;5;241m0.0\u001B[39m, \u001B[38;5;241m0.0\u001B[39m)),\n\u001B[1;32m    392\u001B[0m     ))\n\u001B[1;32m    393\u001B[0m cmap\u001B[38;5;241m.\u001B[39mset_bad(\u001B[38;5;124m'\u001B[39m\u001B[38;5;124mw\u001B[39m\u001B[38;5;124m'\u001B[39m, alpha\u001B[38;5;241m=\u001B[39m\u001B[38;5;241m0.\u001B[39m)\n\u001B[0;32m--> 394\u001B[0m \u001B[43mmatplotlib\u001B[49m\u001B[38;5;241;43m.\u001B[39;49m\u001B[43mcolormaps\u001B[49m\u001B[38;5;241;43m.\u001B[39;49m\u001B[43mregister\u001B[49m\u001B[43m(\u001B[49m\u001B[43mcmap\u001B[49m\u001B[43m)\u001B[49m\n\u001B[1;32m    396\u001B[0m \u001B[38;5;66;03m# polar-alpha: middle is transparent instead of white\u001B[39;00m\n\u001B[1;32m    397\u001B[0m cmap \u001B[38;5;241m=\u001B[39m LinearSegmentedColormap\u001B[38;5;241m.\u001B[39mfrom_list(\n\u001B[1;32m    398\u001B[0m     \u001B[38;5;124m\"\u001B[39m\u001B[38;5;124mpolar-a\u001B[39m\u001B[38;5;124m\"\u001B[39m, (\n\u001B[1;32m    399\u001B[0m         (\u001B[38;5;241m0.0\u001B[39m, (\u001B[38;5;241m0.0\u001B[39m, \u001B[38;5;241m0.0\u001B[39m, \u001B[38;5;241m1.0\u001B[39m, \u001B[38;5;241m1.0\u001B[39m)),\n\u001B[0;32m   (...)\u001B[0m\n\u001B[1;32m    402\u001B[0m         (\u001B[38;5;241m1.0\u001B[39m, (\u001B[38;5;241m1.0\u001B[39m, \u001B[38;5;241m0.0\u001B[39m, \u001B[38;5;241m0.0\u001B[39m, \u001B[38;5;241m1.0\u001B[39m)),\n\u001B[1;32m    403\u001B[0m     ))\n",
      "File \u001B[0;32m~/.conda/envs/data_analysis/lib/python3.9/site-packages/matplotlib/cm.py:149\u001B[0m, in \u001B[0;36mColormapRegistry.register\u001B[0;34m(self, cmap, name, force)\u001B[0m\n\u001B[1;32m    145\u001B[0m \u001B[38;5;28;01mif\u001B[39;00m name \u001B[38;5;129;01min\u001B[39;00m \u001B[38;5;28mself\u001B[39m:\n\u001B[1;32m    146\u001B[0m     \u001B[38;5;28;01mif\u001B[39;00m \u001B[38;5;129;01mnot\u001B[39;00m force:\n\u001B[1;32m    147\u001B[0m         \u001B[38;5;66;03m# don't allow registering an already existing cmap\u001B[39;00m\n\u001B[1;32m    148\u001B[0m         \u001B[38;5;66;03m# unless explicitly asked to\u001B[39;00m\n\u001B[0;32m--> 149\u001B[0m         \u001B[38;5;28;01mraise\u001B[39;00m \u001B[38;5;167;01mValueError\u001B[39;00m(\n\u001B[1;32m    150\u001B[0m             \u001B[38;5;124mf\u001B[39m\u001B[38;5;124m'\u001B[39m\u001B[38;5;124mA colormap named \u001B[39m\u001B[38;5;124m\"\u001B[39m\u001B[38;5;132;01m{\u001B[39;00mname\u001B[38;5;132;01m}\u001B[39;00m\u001B[38;5;124m\"\u001B[39m\u001B[38;5;124m is already registered.\u001B[39m\u001B[38;5;124m'\u001B[39m)\n\u001B[1;32m    151\u001B[0m     \u001B[38;5;28;01melif\u001B[39;00m (name \u001B[38;5;129;01min\u001B[39;00m \u001B[38;5;28mself\u001B[39m\u001B[38;5;241m.\u001B[39m_builtin_cmaps\n\u001B[1;32m    152\u001B[0m             \u001B[38;5;129;01mand\u001B[39;00m \u001B[38;5;129;01mnot\u001B[39;00m \u001B[38;5;28mself\u001B[39m\u001B[38;5;241m.\u001B[39m_allow_override_builtin):\n\u001B[1;32m    153\u001B[0m         \u001B[38;5;66;03m# We don't allow overriding a builtin unless privately\u001B[39;00m\n\u001B[1;32m    154\u001B[0m         \u001B[38;5;66;03m# coming from register_cmap()\u001B[39;00m\n\u001B[1;32m    155\u001B[0m         \u001B[38;5;28;01mraise\u001B[39;00m \u001B[38;5;167;01mValueError\u001B[39;00m(\u001B[38;5;124m\"\u001B[39m\u001B[38;5;124mRe-registering the builtin cmap \u001B[39m\u001B[38;5;124m\"\u001B[39m\n\u001B[1;32m    156\u001B[0m                          \u001B[38;5;124mf\u001B[39m\u001B[38;5;124m\"\u001B[39m\u001B[38;5;132;01m{\u001B[39;00mname\u001B[38;5;132;01m!r}\u001B[39;00m\u001B[38;5;124m is not allowed.\u001B[39m\u001B[38;5;124m\"\u001B[39m)\n",
      "\u001B[0;31mValueError\u001B[0m: A colormap named \"polar\" is already registered."
     ]
    }
   ],
   "source": [
    "import matplotlib.cm\n",
    "import numpy as np\n",
    "import pandas as pd\n",
    "from statsmodels.stats.anova import AnovaRM\n",
    "from statsmodels.stats.multicomp import pairwise_tukeyhsd\n",
    "from scipy.stats import ttest_rel\n",
    "from scipy.stats import sem\n",
    "import pingouin as pg\n",
    "from constants import (ACCURACIES_PATH, ACC_UNSHIFTED_PATH, COND_ACC_PATH, RTs_PATH)\n",
    "from utils.utils_statistical_analysis import stats_preprocessing"
   ]
  },
  {
   "cell_type": "markdown",
   "source": [
    "# Importing data and formatting it\n",
    "Imports all the accuracies and brings them into a table that can be used for statistical analysis. Also segments the data to analyse only certain blocks."
   ],
   "metadata": {
    "collapsed": false,
    "pycharm": {
     "name": "#%% md\n"
    }
   }
  },
  {
   "cell_type": "code",
   "execution_count": 2,
   "outputs": [],
   "source": [
    "accuracies_data = pd.read_csv(RTs_PATH, header=None)\n",
    "stats_data = stats_preprocessing(accuracies_data)\n",
    "cond_acc = pd.read_csv(COND_ACC_PATH, header=None)\n",
    "\n",
    "#stats_data_pre = stats_data.loc[(stats_data['Run'] == 1) | (stats_data['Run'] == 2)]\n",
    "#stats_data_treatment = stats_data.loc[(stats_data['Run'] == 3) | (stats_data['Run'] == 4)]\n",
    "#stats_data_post = stats_data.loc[(stats_data['Run'] == 5) | (stats_data['Run'] == 6)]\n",
    "\n",
    "#stats_data.info()"
   ],
   "metadata": {
    "collapsed": false,
    "pycharm": {
     "name": "#%%\n"
    }
   }
  },
  {
   "cell_type": "markdown",
   "source": [
    "# Output\n",
    "Exporting data to use in other programs"
   ],
   "metadata": {
    "collapsed": false,
    "pycharm": {
     "name": "#%% md\n"
    }
   }
  },
  {
   "cell_type": "code",
   "execution_count": 3,
   "outputs": [],
   "source": [
    "# np.savetxt(\"data/stats_data.csv\", stats_data, delimiter=\",\")\n",
    "# np.savetxt(\"data/stats_data_treatment.csv\", stats_data_treatment, delimiter=\",\")\n",
    "# np.savetxt(\"data/stats_data_pre.csv\", stats_data_pre, delimiter=\",\")\n",
    "# np.savetxt(\"data/stats_data_post.csv\", stats_data_post, delimiter=\",\")"
   ],
   "metadata": {
    "collapsed": false,
    "pycharm": {
     "name": "#%%\n"
    }
   }
  },
  {
   "cell_type": "markdown",
   "source": [
    "# ANOVA\n",
    "calculates within-subjects ANOVA"
   ],
   "metadata": {
    "collapsed": false,
    "pycharm": {
     "name": "#%% md\n"
    }
   }
  },
  {
   "cell_type": "code",
   "execution_count": 4,
   "outputs": [
    {
     "name": "stdout",
     "output_type": "stream",
     "text": [
      "\u001B[4mModel 1\u001B[0m\n",
      "                   Anova\n",
      "============================================\n",
      "              F Value Num DF  Den DF  Pr > F\n",
      "--------------------------------------------\n",
      "Run            0.3323 5.0000 145.0000 0.8928\n",
      "Treatment      3.0567 1.0000  29.0000 0.0910\n",
      "Run:Treatment  0.4922 5.0000 145.0000 0.7817\n",
      "============================================\n",
      "\n",
      "\n",
      "\u001B[4mModel 2\u001B[0m\n",
      "            Source        SS  ddof1  ddof2        MS         F     p-unc  \\\n",
      "0              Run  0.006981      5    145  0.001396  0.332272  0.892792   \n",
      "1        Treatment  0.067011      1     29  0.067011  3.056728  0.090984   \n",
      "2  Run * Treatment  0.010457      5    145  0.002091  0.492234  0.781662   \n",
      "\n",
      "   p-GG-corr       ng2       eps  \n",
      "0   0.822885  0.000724  0.668456  \n",
      "1   0.090984  0.006905  1.000000  \n",
      "2   0.717608  0.001084  0.702364  \n",
      "\n"
     ]
    }
   ],
   "source": [
    "model_1 = AnovaRM(data=stats_data, depvar='Accuracy', subject='Subject', within=['Run', 'Treatment']).fit()\n",
    "print(\"\\033[4m\" + \"Model 1\" + \"\\033[0m\")\n",
    "print(model_1)\n",
    "print(\"\")\n",
    "\n",
    "model_2 = pg.rm_anova(dv='Accuracy', within=['Run', 'Treatment'], subject='Subject', data=stats_data)\n",
    "print(\"\\033[4m\" + \"Model 2\" + \"\\033[0m\")\n",
    "print(model_2)\n",
    "print(\"\")"
   ],
   "metadata": {
    "collapsed": false,
    "pycharm": {
     "name": "#%%\n"
    }
   }
  },
  {
   "cell_type": "markdown",
   "source": [
    "# T-Test\n",
    "Calculates a t-test comparing individual runs to each other"
   ],
   "metadata": {
    "collapsed": false,
    "pycharm": {
     "name": "#%% md\n"
    }
   }
  },
  {
   "cell_type": "code",
   "execution_count": 5,
   "outputs": [
    {
     "name": "stdout",
     "output_type": "stream",
     "text": [
      "0.45336021547952904\n",
      "0.429121383962198\n",
      "\n",
      "\u001B[4mT-Test 1\u001B[0m\n",
      "               T  dof alternative     p-val         CI95%   cohen-d   BF10  \\\n",
      "T-test  1.213677   29        less  0.882668  [-inf, 5.82]  0.135286  0.758   \n",
      "\n",
      "           power  \n",
      "T-test  0.008921  \n",
      "\u001B[4mT-Test 2\u001B[0m\n",
      "Ttest_relResult(statistic=1.2136771538287279, pvalue=0.8826682761520758)\n"
     ]
    }
   ],
   "source": [
    "sham_4 = stats_data.query('Treatment == 1 and Run == 4')['Accuracy']\n",
    "stim_4 = stats_data.query('Treatment == 2 and Run == 4')['Accuracy']\n",
    "print(np.mean(sham_4))\n",
    "print(np.mean(stim_4))\n",
    "print(\"\")\n",
    "\n",
    "sham_4 = sham_4 * 100\n",
    "stim_4 = stim_4 * 100\n",
    "\n",
    "t_test_1 = pg.ttest(sham_4, stim_4, paired=True, alternative='less')\n",
    "print(\"\\033[4m\" + \"T-Test 1\" + \"\\033[0m\")\n",
    "print(t_test_1)\n",
    "\n",
    "t_test_2 = ttest_rel(sham_4, stim_4, alternative='less')\n",
    "print(\"\\033[4m\" + \"T-Test 2\" + \"\\033[0m\")\n",
    "print(t_test_2)"
   ],
   "metadata": {
    "collapsed": false,
    "pycharm": {
     "name": "#%%\n"
    }
   }
  },
  {
   "cell_type": "markdown",
   "source": [
    "# Performance Split\n",
    "Splitting dataset into high and low performers and calculating ANOVA"
   ],
   "metadata": {
    "collapsed": false,
    "pycharm": {
     "name": "#%% md\n"
    }
   }
  },
  {
   "cell_type": "code",
   "execution_count": 6,
   "outputs": [
    {
     "name": "stdout",
     "output_type": "stream",
     "text": [
      "\u001B[4mLow Performers\u001B[0m\n",
      "0.3253641178775664\n",
      "            Source        SS  ddof1  ddof2        MS         F     p-unc  \\\n",
      "0              Run  0.009985      5     70  0.001997  0.576575  0.717721   \n",
      "1        Treatment  0.106428      1     14  0.106428  6.441448  0.023661   \n",
      "2  Run * Treatment  0.002914      5     70  0.000583  0.263244  0.931640   \n",
      "\n",
      "   p-GG-corr       ng2       eps  \n",
      "0   0.610947  0.006789  0.521740  \n",
      "1   0.023661  0.067908  1.000000  \n",
      "2   0.846573  0.001991  0.584348  \n",
      "\n",
      "\u001B[4mHigh Performers\u001B[0m\n",
      "0.5583362822076106\n",
      "            Source        SS  ddof1  ddof2        MS         F     p-unc  \\\n",
      "0              Run  0.033895      5     70  0.006779  1.438136  0.221450   \n",
      "1        Treatment  0.001589      1     14  0.001589  0.061197  0.808205   \n",
      "2  Run * Treatment  0.025260      5     70  0.005052  0.797532  0.555152   \n",
      "\n",
      "   p-GG-corr       ng2       eps  \n",
      "0   0.240364  0.010492  0.684611  \n",
      "1   0.808205  0.000497  1.000000  \n",
      "2   0.508445  0.007840  0.637507  \n"
     ]
    }
   ],
   "source": [
    "subject_performance = stats_data.Accuracy.to_numpy()\n",
    "subject_performance = np.mean(subject_performance.reshape(-1, 12), axis=1)\n",
    "performance_index = np.argpartition(subject_performance, int(len(subject_performance)/2))\n",
    "performance_index = performance_index + 1\n",
    "performance_index = np.array_split(performance_index,2)\n",
    "\n",
    "low_performers = stats_data[~(stats_data.Subject.isin(performance_index[1]))]\n",
    "high_performers = stats_data[~(stats_data.Subject.isin(performance_index[0]))]\n",
    "\n",
    "anova_low_performers = pg.rm_anova(dv='Accuracy', within=['Run', 'Treatment'], subject='Subject', data=low_performers)\n",
    "anova_high_performers = pg.rm_anova(dv='Accuracy', within=['Run', 'Treatment'], subject='Subject', data=high_performers)\n",
    "\n",
    "print(\"\\033[4m\" + \"Low Performers\" + \"\\033[0m\")\n",
    "print(np.mean(low_performers.Accuracy))\n",
    "print(anova_low_performers)\n",
    "print(\"\")\n",
    "print(\"\\033[4m\" + \"High Performers\" + \"\\033[0m\")\n",
    "print(np.mean(high_performers.Accuracy))\n",
    "print(anova_high_performers)"
   ],
   "metadata": {
    "collapsed": false,
    "pycharm": {
     "name": "#%%\n"
    }
   }
  },
  {
   "cell_type": "markdown",
   "source": [
    "# Variance Split\n",
    "Splitting dataset into subjects with high and low variance and calculating ANOVA"
   ],
   "metadata": {
    "collapsed": false,
    "pycharm": {
     "name": "#%% md\n"
    }
   }
  },
  {
   "cell_type": "code",
   "execution_count": 7,
   "outputs": [
    {
     "name": "stdout",
     "output_type": "stream",
     "text": [
      "\u001B[4mLow Variance\u001B[0m\n",
      "Mean Accuracy = 0.48908157525182344\n",
      "Mean Variance = 0.00237771773748847\n",
      "            Source        SS  ddof1  ddof2        MS         F     p-unc  \\\n",
      "0              Run  0.026567      5     70  0.005313  0.849993  0.519146   \n",
      "1        Treatment  0.139385      1     14  0.139385  4.133080  0.061467   \n",
      "2  Run * Treatment  0.047446      5     70  0.009489  1.544181  0.187426   \n",
      "\n",
      "   p-GG-corr       ng2       eps  \n",
      "0   0.481653  0.004059  0.651153  \n",
      "1   0.061467  0.020936  1.000000  \n",
      "2   0.213362  0.007226  0.650288  \n",
      "\n",
      "\u001B[4mHigh Variance\u001B[0m\n",
      "Mean Accuracy = 0.3946188248333534\n",
      "Mean Variance = 0.009413812458984146\n",
      "            Source        SS  ddof1  ddof2        MS         F     p-unc  \\\n",
      "0              Run  0.014054      5     70  0.002811  1.424925  0.226054   \n",
      "1        Treatment  0.000053      1     14  0.000053  0.008076  0.929668   \n",
      "2  Run * Treatment  0.020872      5     70  0.004174  2.281512  0.055709   \n",
      "\n",
      "   p-GG-corr       ng2       eps  \n",
      "0   0.251480  0.006487  0.550307  \n",
      "1   0.929668  0.000024  1.000000  \n",
      "2   0.082663  0.009603  0.691337  \n"
     ]
    }
   ],
   "source": [
    "variances = accuracies_data.var(axis=1)\n",
    "variance_index = np.argpartition(variances, int(len(variances)/2))\n",
    "variance_index = variance_index + 1\n",
    "variance_index = np.array_split(variance_index,2)\n",
    "\n",
    "low_variance = stats_data[~(stats_data.Subject.isin(variance_index[0]))]\n",
    "high_variance = stats_data[~(stats_data.Subject.isin(variance_index[1]))]\n",
    "\n",
    "anova_low_variance = pg.rm_anova(dv='Accuracy', within=['Run', 'Treatment'], subject='Subject', data=low_variance)\n",
    "anova_high_variance = pg.rm_anova(dv='Accuracy', within=['Run', 'Treatment'], subject='Subject', data=high_variance)\n",
    "\n",
    "print(\"\\033[4m\" + \"Low Variance\" + \"\\033[0m\")\n",
    "print(\"Mean Accuracy = \" + str(np.mean(low_variance.Accuracy)))\n",
    "print(\"Mean Variance = \" + str(np.mean(variances[variance_index[0] - 1])))\n",
    "print(anova_low_variance)\n",
    "print(\"\")\n",
    "print(\"\\033[4m\" + \"High Variance\" + \"\\033[0m\")\n",
    "print(\"Mean Accuracy = \" + str(np.mean(high_variance.Accuracy)))\n",
    "print(\"Mean Variance = \" + str(np.mean(variances[variance_index[1] - 1])))\n",
    "print(anova_high_variance)"
   ],
   "metadata": {
    "collapsed": false,
    "pycharm": {
     "name": "#%%\n"
    }
   }
  },
  {
   "cell_type": "markdown",
   "source": [
    "# Comparing day 1 to day 2\n",
    "Using the unshifted data to test if there is a difference in the performance between day 1 and day 2 and to see if there is a learning effect"
   ],
   "metadata": {
    "collapsed": false,
    "pycharm": {
     "name": "#%% md\n"
    }
   }
  },
  {
   "cell_type": "code",
   "execution_count": 8,
   "outputs": [
    {
     "name": "stdout",
     "output_type": "stream",
     "text": [
      "\u001B[4mANOVA comparing day 1 and 2\u001B[0m\n",
      "            Source        SS  ddof1  ddof2        MS         F     p-unc  \\\n",
      "0              Run  0.025461      5    155  0.005092  0.713259  0.614357   \n",
      "1        Treatment  0.000086      1     31  0.000086  0.009457  0.923155   \n",
      "2  Run * Treatment  0.037047      5    155  0.007409  0.750078  0.587216   \n",
      "\n",
      "   p-GG-corr       ng2       eps  \n",
      "0   0.599474  0.005739  0.895642  \n",
      "1   0.923155  0.000020  1.000000  \n",
      "2   0.560758  0.008330  0.806473  \n",
      "\n",
      "\u001B[4mANOVA of day 1\u001B[0m\n",
      "  Source  ddof1  ddof2         F     p-unc       ng2       eps\n",
      "0    Run      5    145  0.330488  0.893899  0.001391  0.773856\n",
      "\n",
      "\u001B[4mANOVA of day 2\u001B[0m\n",
      "  Source  ddof1  ddof2        F     p-unc  p-GG-corr       ng2       eps  \\\n",
      "0    Run      5    145  0.47381  0.795327   0.718755  0.002137  0.658523   \n",
      "\n",
      "   sphericity   W-spher   p-spher  \n",
      "0       False  0.227741  0.000258  \n"
     ]
    }
   ],
   "source": [
    "accuracies_unshifted_data = pd.read_csv(ACC_UNSHIFTED_PATH, header=None)\n",
    "stats_data_unshifted = stats_preprocessing(accuracies_unshifted_data)\n",
    "\n",
    "stats_data_day1 = stats_data.loc[(stats_data['Treatment'] == 1)]\n",
    "stats_data_day2 = stats_data.loc[(stats_data['Treatment'] == 2)]\n",
    "\n",
    "unshifted_anova = pg.rm_anova(dv='Accuracy', within=['Run', 'Treatment'], subject='Subject', data=stats_data_unshifted)\n",
    "anova_day1 = pg.rm_anova(dv='Accuracy', within=['Run'], subject='Subject', data=stats_data_day1)\n",
    "anova_day2 = pg.rm_anova(dv='Accuracy', within=['Run'], subject='Subject', data=stats_data_day2)\n",
    "\n",
    "print(\"\\033[4m\" + \"ANOVA comparing day 1 and 2\" + \"\\033[0m\")\n",
    "print(unshifted_anova)\n",
    "print(\"\")\n",
    "print(\"\\033[4m\" + \"ANOVA of day 1\" + \"\\033[0m\")\n",
    "print(anova_day1)\n",
    "print(\"\")\n",
    "print(\"\\033[4m\" + \"ANOVA of day 2\" + \"\\033[0m\")\n",
    "print(anova_day2)"
   ],
   "metadata": {
    "collapsed": false,
    "pycharm": {
     "name": "#%%\n"
    }
   }
  },
  {
   "cell_type": "markdown",
   "source": [
    "# Comparing Baseline to Stimulation Phase\n",
    "Calculating the ANOVA comparing baseline trials with trial 3 and 4. First on both days, then only on the day of the actual stimulation."
   ],
   "metadata": {
    "collapsed": false,
    "pycharm": {
     "name": "#%% md\n"
    }
   }
  },
  {
   "cell_type": "code",
   "execution_count": 9,
   "outputs": [
    {
     "name": "stdout",
     "output_type": "stream",
     "text": [
      "\u001B[4mANOVA comparing Baseline to run 3 and 4\u001B[0m\n",
      "            Source        SS  ddof1  ddof2        MS         F     p-unc  \\\n",
      "0              Run  0.006485      4    116  0.001621  0.453392  0.769744   \n",
      "1        Treatment  0.047746      1     29  0.047746  2.446196  0.128658   \n",
      "2  Run * Treatment  0.004268      4    116  0.001067  0.317811  0.865574   \n",
      "\n",
      "   p-GG-corr       ng2       eps  \n",
      "0   0.724594  0.000804  0.786447  \n",
      "1   0.128658  0.005892  1.000000  \n",
      "2   0.819998  0.000530  0.779716  \n",
      "\n",
      "\u001B[4mANOVA comparing Baseline to run 3 and 4 in treatment condition\u001B[0m\n",
      "  Source  ddof1  ddof2         F     p-unc  p-GG-corr       ng2       eps  \\\n",
      "0    Run      4    116  0.471339  0.756674   0.696558  0.001705  0.724617   \n",
      "\n",
      "   sphericity   W-spher  p-spher  \n",
      "0       False  0.398652  0.00279  \n",
      "\n"
     ]
    }
   ],
   "source": [
    "#stats_data_short = stats_data.loc[(stats_data['Run'] == 1) | (stats_data['Run'] == 2) | (stats_data['Run'] == 3) | (stats_data['Run'] == 4)]\n",
    "stats_data.Run = stats_data.Run.replace(2, 1)\n",
    "anova_short = pg.rm_anova(dv='Accuracy', within=['Run', 'Treatment'], subject='Subject', data=stats_data)\n",
    "\n",
    "stats_data_treatment = stats_data.loc[(stats_data['Treatment'] == 2)]\n",
    "anova_short_treatment = pg.rm_anova(dv='Accuracy', within=['Run'], subject='Subject', data=stats_data_treatment)\n",
    "\n",
    "#tukey = pairwise_tukeyhsd(endog=stats_data_treatment['Accuracy'],\n",
    "#                          groups=stats_data_treatment['Run'],\n",
    "#                          alpha=0.05)\n",
    "\n",
    "print(\"\\033[4m\" + \"ANOVA comparing Baseline to run 3 and 4\" + \"\\033[0m\")\n",
    "print(anova_short)\n",
    "print(\"\")\n",
    "print(\"\\033[4m\" + \"ANOVA comparing Baseline to run 3 and 4 in treatment condition\" + \"\\033[0m\")\n",
    "print(anova_short_treatment)\n",
    "print(\"\")\n",
    "#print(\"\\033[4m\" + \"Pairwise comparisons\" + \"\\033[0m\")\n",
    "#print(tukey)"
   ],
   "metadata": {
    "collapsed": false,
    "pycharm": {
     "name": "#%%\n"
    }
   }
  },
  {
   "cell_type": "markdown",
   "source": [
    "# Comparing Sham to Stimulation Phase\n",
    "Calculating ANOVA comparing run 3 and 4 of the sham day with run 3 and 4 of the stimulation day"
   ],
   "metadata": {
    "collapsed": false,
    "pycharm": {
     "name": "#%% md\n"
    }
   }
  },
  {
   "cell_type": "code",
   "execution_count": 10,
   "outputs": [
    {
     "name": "stdout",
     "output_type": "stream",
     "text": [
      "            Source        SS  ddof1  ddof2        MS         F     p-unc  \\\n",
      "0              Run  0.000309      1     29  0.000309  0.078438  0.781413   \n",
      "1        Treatment  0.020611      1     29  0.020611  2.223811  0.146696   \n",
      "2  Run * Treatment  0.000117      1     29  0.000117  0.026812  0.871068   \n",
      "\n",
      "   p-GG-corr       ng2  eps  \n",
      "0   0.781413  0.000093  1.0  \n",
      "1   0.146696  0.006145  1.0  \n",
      "2   0.871068  0.000035  1.0  \n"
     ]
    },
    {
     "name": "stderr",
     "output_type": "stream",
     "text": [
      "/var/folders/h8/2kfl3g3j6qb3s84n6r41gc8m0000gn/T/ipykernel_66773/2712407801.py:2: SettingWithCopyWarning: \n",
      "A value is trying to be set on a copy of a slice from a DataFrame.\n",
      "Try using .loc[row_indexer,col_indexer] = value instead\n",
      "\n",
      "See the caveats in the documentation: https://pandas.pydata.org/pandas-docs/stable/user_guide/indexing.html#returning-a-view-versus-a-copy\n",
      "  stats_data_sham_stim.loc[(stats_data['Treatment'] == 1)].Run = stats_data_sham_stim.loc[(stats_data['Treatment'] == 1)].Run.replace(4, 3)\n"
     ]
    }
   ],
   "source": [
    "stats_data_sham_stim = stats_data.loc[(stats_data['Run'] == 3) | (stats_data['Run'] == 4)]\n",
    "stats_data_sham_stim.loc[(stats_data['Treatment'] == 1)].Run = stats_data_sham_stim.loc[(stats_data['Treatment'] == 1)].Run.replace(4, 3)\n",
    "\n",
    "anova_sham_stim = pg.rm_anova(dv='Accuracy', within=['Run', 'Treatment'], subject='Subject', data=stats_data_sham_stim)\n",
    "print(anova_sham_stim)"
   ],
   "metadata": {
    "collapsed": false,
    "pycharm": {
     "name": "#%%\n"
    }
   }
  },
  {
   "cell_type": "code",
   "execution_count": 11,
   "outputs": [
    {
     "name": "stdout",
     "output_type": "stream",
     "text": [
      "2      3\n",
      "3      4\n",
      "14     3\n",
      "15     4\n",
      "26     3\n",
      "27     4\n",
      "38     3\n",
      "39     4\n",
      "50     3\n",
      "51     4\n",
      "62     3\n",
      "63     4\n",
      "74     3\n",
      "75     4\n",
      "86     3\n",
      "87     4\n",
      "98     3\n",
      "99     4\n",
      "110    3\n",
      "111    4\n",
      "122    3\n",
      "123    4\n",
      "134    3\n",
      "135    4\n",
      "146    3\n",
      "147    4\n",
      "158    3\n",
      "159    4\n",
      "170    3\n",
      "171    4\n",
      "182    3\n",
      "183    4\n",
      "194    3\n",
      "195    4\n",
      "206    3\n",
      "207    4\n",
      "218    3\n",
      "219    4\n",
      "230    3\n",
      "231    4\n",
      "242    3\n",
      "243    4\n",
      "254    3\n",
      "255    4\n",
      "266    3\n",
      "267    4\n",
      "278    3\n",
      "279    4\n",
      "290    3\n",
      "291    4\n",
      "302    3\n",
      "303    4\n",
      "314    3\n",
      "315    4\n",
      "326    3\n",
      "327    4\n",
      "338    3\n",
      "339    4\n",
      "350    3\n",
      "351    4\n",
      "Name: Run, dtype: category\n",
      "Categories (5, int64): [1, 3, 4, 5, 6]\n"
     ]
    }
   ],
   "source": [
    "print(stats_data_sham_stim.loc[(stats_data['Treatment'] == 1)].Run)"
   ],
   "metadata": {
    "collapsed": false,
    "pycharm": {
     "name": "#%%\n"
    }
   }
  },
  {
   "cell_type": "markdown",
   "source": [
    "# Descriptives on individual subjects\n",
    "General statistics of individual subjects needed for the results section"
   ],
   "metadata": {
    "collapsed": false,
    "pycharm": {
     "name": "#%% md\n"
    }
   }
  },
  {
   "cell_type": "code",
   "execution_count": 12,
   "outputs": [
    {
     "name": "stdout",
     "output_type": "stream",
     "text": [
      "0.17537608806944446\n",
      "0.05333091492477195\n",
      "0.4418502000425884\n",
      "0.16456422022496447\n",
      "0.008673295954673909\n"
     ]
    }
   ],
   "source": [
    "# get mean and SD of single participant\n",
    "subject = 26\n",
    "print(accuracies_data.iloc[subject].mean())\n",
    "print(accuracies_data.iloc[subject].std())\n",
    "\n",
    "# get mean and SD of all participants\n",
    "print(accuracies_data.stack().mean())\n",
    "print(accuracies_data.stack().std())\n",
    "print(sem(accuracies_data.stack()))\n",
    "\n",
    "# get mean and SD of day 1 or day 2\n",
    "# print(stats_data_day1[\"Accuracy\"].mean())\n",
    "# print(stats_data_day2[\"Accuracy\"].mean())\n",
    "# print(stats_data_day1[\"Accuracy\"].std())\n",
    "# print(stats_data_day2[\"Accuracy\"].std())\n",
    "\n",
    "# age of the participants\n",
    "# age = [28, 24, 23, 23, 23, 28, 23, 26, 25, 24, 27, 27, 23, 26, 21, 25, 24, 36, 24, 26, 26, 26, 29, 34, 24, 22, 34, 25, 28, 26, 25, 26]\n",
    "# print(len(age))\n",
    "# print(np.mean(age))\n",
    "# print(np.median(age))\n",
    "# print(np.std(age))\n",
    "# print(min(age))\n",
    "# print(max(age))"
   ],
   "metadata": {
    "collapsed": false,
    "pycharm": {
     "name": "#%%\n"
    }
   }
  },
  {
   "cell_type": "markdown",
   "source": [
    "Comparing accuracy for remember stimulus 1 and remember stimulus 2"
   ],
   "metadata": {
    "collapsed": false,
    "pycharm": {
     "name": "#%% md\n"
    }
   }
  },
  {
   "cell_type": "code",
   "execution_count": 13,
   "outputs": [
    {
     "name": "stdout",
     "output_type": "stream",
     "text": [
      "0.6335468219668099\n",
      "0.6330849320361348\n",
      "0.06394476211463561\n",
      "0.06034410459973374\n",
      "\u001B[4mConditional T-Test\u001B[0m\n",
      "               T  dof alternative     p-val         CI95%   cohen-d   BF10  \\\n",
      "T-test  1.213677   29        less  0.882668  [-inf, 5.82]  0.135286  0.758   \n",
      "\n",
      "           power  \n",
      "T-test  0.008921  \n"
     ]
    }
   ],
   "source": [
    "print(np.mean(cond_acc.loc[0]))\n",
    "print(np.mean(cond_acc.loc[1]))\n",
    "print(np.std(cond_acc.loc[0]))\n",
    "print(np.std(cond_acc.loc[1]))\n",
    "\n",
    "cond_ttest = pg.ttest(cond_acc.loc[0], cond_acc.loc[1], paired=False)\n",
    "print(\"\\033[4m\" + \"Conditional T-Test\" + \"\\033[0m\")\n",
    "print(t_test_1)"
   ],
   "metadata": {
    "collapsed": false,
    "pycharm": {
     "name": "#%%\n"
    }
   }
  },
  {
   "cell_type": "markdown",
   "source": [
    "# Statistically test running mean"
   ],
   "metadata": {
    "collapsed": false,
    "pycharm": {
     "name": "#%% md\n"
    }
   }
  },
  {
   "cell_type": "code",
   "execution_count": 42,
   "outputs": [
    {
     "name": "stdout",
     "output_type": "stream",
     "text": [
      "at least\n"
     ]
    },
    {
     "name": "stderr",
     "output_type": "stream",
     "text": [
      "/var/folders/h8/2kfl3g3j6qb3s84n6r41gc8m0000gn/T/ipykernel_66773/442537960.py:9: RuntimeWarning: Ignoring argument \"tail\", performing 1-tailed F-test\n",
      "  T_obs, clusters, cluster_p_values, H0 = mne.stats.permutation_cluster_test([condition_treat, condition_sham], tail=0, out_type='mask')\n",
      "/Users/lucakammer/.conda/envs/data_analysis/lib/python3.9/site-packages/mne/stats/cluster_level.py:852: FutureWarning: Support for multi-dimensional indexing (e.g. `obj[:, None]`) is deprecated and will be removed in a future version.  Convert to a numpy array before indexing instead.\n",
      "  X = [x[:, np.newaxis] if x.ndim == 1 else x for x in X]\n",
      "/var/folders/h8/2kfl3g3j6qb3s84n6r41gc8m0000gn/T/ipykernel_66773/442537960.py:9: RuntimeWarning: No clusters found, returning empty H0, clusters, and cluster_pv\n",
      "  T_obs, clusters, cluster_p_values, H0 = mne.stats.permutation_cluster_test([condition_treat, condition_sham], tail=0, out_type='mask')\n"
     ]
    }
   ],
   "source": [
    "import mne\n",
    "from mne import io\n",
    "from mne.stats import permutation_cluster_test\n",
    "print(\"at least\")\n",
    "\n",
    "condition_sham = stats_data.Accuracy.loc[stats_data['Treatment'] == 1]\n",
    "condition_treat = stats_data.Accuracy.loc[stats_data['Treatment'] == 2]\n",
    "\n",
    "T_obs, clusters, cluster_p_values, H0 = mne.stats.permutation_cluster_test([condition_treat, condition_sham], tail=0, out_type='mask')"
   ],
   "metadata": {
    "collapsed": false,
    "pycharm": {
     "name": "#%%\n"
    }
   }
  },
  {
   "cell_type": "code",
   "execution_count": null,
   "outputs": [],
   "source": [],
   "metadata": {
    "collapsed": false,
    "pycharm": {
     "name": "#%%\n"
    }
   }
  }
 ],
 "metadata": {
  "kernelspec": {
   "display_name": "Python 3",
   "language": "python",
   "name": "python3"
  },
  "language_info": {
   "codemirror_mode": {
    "name": "ipython",
    "version": 2
   },
   "file_extension": ".py",
   "mimetype": "text/x-python",
   "name": "python",
   "nbconvert_exporter": "python",
   "pygments_lexer": "ipython2",
   "version": "2.7.6"
  }
 },
 "nbformat": 4,
 "nbformat_minor": 0
}