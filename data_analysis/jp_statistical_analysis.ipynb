{
 "cells": [
  {
   "cell_type": "code",
   "execution_count": 1,
   "metadata": {
    "collapsed": true,
    "pycharm": {
     "name": "#%%\n"
    }
   },
   "outputs": [],
   "source": [
    "import numpy as np\n",
    "import pandas as pd\n",
    "from statsmodels.stats.anova import AnovaRM\n",
    "from scipy.stats import ttest_rel\n",
    "import pingouin as pg\n",
    "from constants import (ACCURACIES_PATH)"
   ]
  },
  {
   "cell_type": "markdown",
   "source": [
    "# Importing data and formatting it\n",
    "Imports all the accuracies and brings them into a table that can be used for statistical analysis. Also segments the data to analyse only certain blocks."
   ],
   "metadata": {
    "collapsed": false,
    "pycharm": {
     "name": "#%% md\n"
    }
   }
  },
  {
   "cell_type": "code",
   "execution_count": 9,
   "outputs": [
    {
     "name": "stdout",
     "output_type": "stream",
     "text": [
      "<class 'pandas.core.frame.DataFrame'>\n",
      "Int64Index: 124 entries, 2 to 369\n",
      "Data columns (total 4 columns):\n",
      " #   Column     Non-Null Count  Dtype   \n",
      "---  ------     --------------  -----   \n",
      " 0   Subject    124 non-null    category\n",
      " 1   Treatment  124 non-null    category\n",
      " 2   Run        124 non-null    category\n",
      " 3   Accuracy   124 non-null    float64 \n",
      "dtypes: category(3), float64(1)\n",
      "memory usage: 3.9 KB\n"
     ]
    }
   ],
   "source": [
    "accuracies_data = pd.read_csv(ACCURACIES_PATH, header=None)\n",
    "\n",
    "accuracy = accuracies_data.to_numpy().flatten()\n",
    "subject = range(1, len(accuracies_data) + 1)\n",
    "subject = np.repeat(subject, 12)\n",
    "treatment = [1, 2]\n",
    "treatment = np.repeat(treatment, 6)\n",
    "treatment = np.tile(treatment, len(accuracies_data))\n",
    "run = np.arange(1, 7)\n",
    "run = np.tile(run, len(accuracies_data) * 2)\n",
    "stats_data = pd.DataFrame({'Subject': subject, 'Treatment': treatment, 'Run': run, 'Accuracy': accuracy},\n",
    "                          columns=['Subject', 'Treatment', 'Run', 'Accuracy'])\n",
    "\n",
    "stats_data[\"Subject\"] = pd.Categorical(stats_data.Subject)\n",
    "stats_data[\"Treatment\"] = pd.Categorical(stats_data.Treatment)\n",
    "stats_data[\"Run\"] = pd.Categorical(stats_data.Run)\n",
    "\n",
    "stats_data_pre = stats_data.loc[(stats_data['Run'] == 1) | (stats_data['Run'] == 2)]\n",
    "stats_data_treatment = stats_data.loc[(stats_data['Run'] == 3) | (stats_data['Run'] == 4)]\n",
    "stats_data_post = stats_data.loc[(stats_data['Run'] == 5) | (stats_data['Run'] == 6)]\n",
    "\n",
    "stats_data_treatment.info()"
   ],
   "metadata": {
    "collapsed": false,
    "pycharm": {
     "name": "#%%\n"
    }
   }
  },
  {
   "cell_type": "markdown",
   "source": [
    "# ANOVA\n",
    "calculates within-subjects ANOVA"
   ],
   "metadata": {
    "collapsed": false,
    "pycharm": {
     "name": "#%% md\n"
    }
   }
  },
  {
   "cell_type": "code",
   "execution_count": 10,
   "outputs": [
    {
     "name": "stdout",
     "output_type": "stream",
     "text": [
      "\u001B[4mModel 1\u001B[0m\n",
      "                   Anova\n",
      "============================================\n",
      "              F Value Num DF  Den DF  Pr > F\n",
      "--------------------------------------------\n",
      "Run            1.4781 5.0000 150.0000 0.2002\n",
      "Treatment      0.1679 1.0000  30.0000 0.6849\n",
      "Run:Treatment  2.2930 5.0000 150.0000 0.0484\n",
      "============================================\n",
      "\n",
      "\n",
      "\u001B[4mModel 2\u001B[0m\n",
      "            Source        SS  ddof1  ddof2        MS          F     p-unc  \\\n",
      "0              Run  0.040839      1     30  0.040839  10.394714  0.003043   \n",
      "1        Treatment  0.033567      1     30  0.033567   2.979015  0.094638   \n",
      "2  Run * Treatment  0.053054      1     30  0.053054   7.335583  0.011058   \n",
      "\n",
      "   p-GG-corr       ng2  eps  \n",
      "0   0.003043  0.027004  1.0  \n",
      "1   0.094638  0.022303  1.0  \n",
      "2   0.011058  0.034800  1.0  \n",
      "\n"
     ]
    }
   ],
   "source": [
    "model_1_pre = AnovaRM(data=stats_data, depvar='Accuracy', subject='Subject', within=['Run', 'Treatment'])\n",
    "model_1 = model_1_pre.fit()\n",
    "print(\"\\033[4m\" + \"Model 1\" + \"\\033[0m\")\n",
    "print(model_1)\n",
    "print(\"\")\n",
    "\n",
    "model_2 = pg.rm_anova(dv='Accuracy', within=['Run', 'Treatment'], subject='Subject', data=stats_data_treatment)\n",
    "print(\"\\033[4m\" + \"Model 2\" + \"\\033[0m\")\n",
    "print(model_2)\n",
    "print(\"\")"
   ],
   "metadata": {
    "collapsed": false,
    "pycharm": {
     "name": "#%%\n"
    }
   }
  },
  {
   "cell_type": "markdown",
   "source": [
    "# T-Test\n",
    "Calculates a t-test comparing individual runs to each other"
   ],
   "metadata": {
    "collapsed": false,
    "pycharm": {
     "name": "#%% md\n"
    }
   }
  },
  {
   "cell_type": "code",
   "execution_count": null,
   "outputs": [],
   "source": [
    "sham_4 = stats_data.query('Treatment == 1 and Run == 4')['Accuracy']\n",
    "stim_4 = stats_data.query('Treatment == 2 and Run == 4')['Accuracy']\n",
    "print(np.mean(sham_4))\n",
    "print(np.mean(stim_4))\n",
    "print(\"\")\n",
    "\n",
    "t_test_1 = ttest_rel(sham_4, stim_4, alternative='less')\n",
    "print(\"\\033[4m\" + \"T-Test 1\" + \"\\033[0m\")\n",
    "print(t_test_1)\n",
    "print(\"\")\n",
    "\n",
    "t_test_2 = pg.ttest(sham_4, stim_4, paired=True)\n",
    "print(\"\\033[4m\" + \"T-Test 2\" + \"\\033[0m\")\n",
    "print(t_test_2)"
   ],
   "metadata": {
    "collapsed": false,
    "pycharm": {
     "name": "#%%\n"
    }
   }
  },
  {
   "cell_type": "markdown",
   "source": [
    "# Output\n",
    "Exporting data to use in other programs"
   ],
   "metadata": {
    "collapsed": false,
    "pycharm": {
     "name": "#%% md\n"
    }
   }
  },
  {
   "cell_type": "code",
   "execution_count": 12,
   "outputs": [],
   "source": [
    "np.savetxt(\"data/stats_data.csv\", stats_data, delimiter=\",\")"
   ],
   "metadata": {
    "collapsed": false,
    "pycharm": {
     "name": "#%%\n"
    }
   }
  },
  {
   "cell_type": "code",
   "execution_count": null,
   "outputs": [],
   "source": [],
   "metadata": {
    "collapsed": false,
    "pycharm": {
     "name": "#%%\n"
    }
   }
  }
 ],
 "metadata": {
  "kernelspec": {
   "display_name": "Python 3",
   "language": "python",
   "name": "python3"
  },
  "language_info": {
   "codemirror_mode": {
    "name": "ipython",
    "version": 2
   },
   "file_extension": ".py",
   "mimetype": "text/x-python",
   "name": "python",
   "nbconvert_exporter": "python",
   "pygments_lexer": "ipython2",
   "version": "2.7.6"
  }
 },
 "nbformat": 4,
 "nbformat_minor": 0
}